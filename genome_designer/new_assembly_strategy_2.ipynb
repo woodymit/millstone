{
 "cells": [
  {
   "cell_type": "code",
   "execution_count": 11,
   "metadata": {
    "collapsed": false
   },
   "outputs": [
    {
     "data": {
      "text/plain": [
       "'/home/wahern/projects/millstone/genome_designer'"
      ]
     },
     "execution_count": 11,
     "metadata": {},
     "output_type": "execute_result"
    }
   ],
   "source": [
    "from django.core.management import setup_environ\n",
    "import settings\n",
    "setup_environ(settings)"
   ]
  },
  {
   "cell_type": "code",
   "execution_count": 40,
   "metadata": {
    "collapsed": false
   },
   "outputs": [
    {
     "name": "stdout",
     "output_type": "stream",
     "text": [
      "390 unmapped reads in contig\n",
      "150 mapped mates found\n",
      "add_bam_file_track entered\n",
      "created related models\n",
      "sorted bam\n",
      "indexed bam\n",
      "about to add bam file track\n",
      "added bam file track\n"
     ]
    }
   ],
   "source": [
    "import os\n",
    "\n",
    "import pysam\n",
    "\n",
    "from main.models import Contig\n",
    "from main.models import Dataset\n",
    "from genome_finish import insertion_placement_read_trkg\n",
    "from genome_finish.assembly import add_bam_track\n",
    "\n",
    "# contig2_label = 'mg1655_lib1_rec07_NODE_22_length_5491_cov_157.923141'\n",
    "contig2_label = 'ins_1kb_ins_1kb_sample_NODE_1_length_1966_cov_23.010174'\n",
    "contig = Contig.objects.get(label=contig2_label)\n",
    "\n",
    "unmapped_contig_reads = insertion_placement_read_trkg.extract_contig_reads(contig, read_category='unmapped')\n",
    "print len(unmapped_contig_reads), 'unmapped reads in contig'\n",
    "\n",
    "original_align = contig.experiment_sample_to_alignment.dataset_set.get(type=Dataset.TYPE.BWA_ALIGN).get_absolute_location()\n",
    "original_alignmentfile = pysam.AlignmentFile(original_align)\n",
    "found_mates = []\n",
    "for read in unmapped_contig_reads:\n",
    "    if not read.mate_is_unmapped:\n",
    "        mate = original_alignmentfile.mate(read)\n",
    "        found_mates.append(mate)\n",
    "print len(found_mates), 'mapped mates found'\n",
    "\n",
    "mates_of_unmapped_bam_file = os.path.join(\n",
    "        contig.get_model_data_dir(), 'mates_of_unmapped.bam')\n",
    "mates_of_unmapped_alignment_file = pysam.AlignmentFile(\n",
    "    mates_of_unmapped_bam_file, \"wb\", template=original_alignmentfile)\n",
    "for read in found_mates:\n",
    "    mates_of_unmapped_alignment_file.write(read)\n",
    "mates_of_unmapped_alignment_file.close()\n",
    "\n",
    "label = ('Contig_' + str(contig.metadata['node_number']) + '_length_' +\n",
    "        str(contig.num_bases) + '_mates_of_unmapped')\n",
    "add_bam_track(contig.parent_reference_genome, mates_of_unmapped_bam_file, label)\n",
    "\n"
   ]
  },
  {
   "cell_type": "code",
   "execution_count": 41,
   "metadata": {
    "collapsed": false
   },
   "outputs": [
    {
     "data": {
      "text/plain": [
       "'Contig_1_length_1986_mates_of_unmapped'"
      ]
     },
     "execution_count": 41,
     "metadata": {},
     "output_type": "execute_result"
    }
   ],
   "source": [
    "label"
   ]
  },
  {
   "cell_type": "code",
   "execution_count": 16,
   "metadata": {
    "collapsed": false
   },
   "outputs": [],
   "source": [
    "from main.models import ExperimentSampleToAlignment\n",
    "from main.models import Dataset\n",
    "alignment_dir = ExperimentSampleToAlignment.objects.get(alignment_group__label = 'lib1_rec07_align_a').get_model_data_dir()"
   ]
  },
  {
   "cell_type": "code",
   "execution_count": 32,
   "metadata": {
    "collapsed": false
   },
   "outputs": [
    {
     "data": {
      "text/plain": [
       "<module 'genome_finish.assembly' from 'genome_finish/assembly.py'>"
      ]
     },
     "execution_count": 32,
     "metadata": {},
     "output_type": "execute_result"
    }
   ],
   "source": [
    "reload(assembly)"
   ]
  },
  {
   "cell_type": "code",
   "execution_count": 18,
   "metadata": {
    "collapsed": true
   },
   "outputs": [],
   "source": [
    "import os\n",
    "import genome_finish.assembly as assembly"
   ]
  },
  {
   "cell_type": "code",
   "execution_count": 33,
   "metadata": {
    "collapsed": false
   },
   "outputs": [],
   "source": [
    "from main.models import ReferenceGenome\n",
    "mg1655 = ReferenceGenome.objects.get(label='mg1655')\n",
    "sv_indicants_no_mates_bam = os.path.join(alignment_dir, 'genome_finishing/0/bwa_align.SV_indicants_no_dups.bam')"
   ]
  },
  {
   "cell_type": "code",
   "execution_count": 36,
   "metadata": {
    "collapsed": false
   },
   "outputs": [
    {
     "name": "stdout",
     "output_type": "stream",
     "text": [
      "/home/wahern/projects/millstone/genome_designer/conf/../temp_data/projects/6e766eb8/alignment_groups/b66efb92/sample_alignments/0418e714/genome_finishing/0/bwa_align.SV_indicants_no_dups.bam\n"
     ]
    }
   ],
   "source": [
    "print sv_indicants_no_mates_bam\n",
    "assert os.path.exists(sv_indicants_no_mates_bam)"
   ]
  },
  {
   "cell_type": "code",
   "execution_count": 37,
   "metadata": {
    "collapsed": false
   },
   "outputs": [
    {
     "data": {
      "text/plain": [
       "4641652L"
      ]
     },
     "execution_count": 37,
     "metadata": {},
     "output_type": "execute_result"
    }
   ],
   "source": [
    "mg1655.num_bases"
   ]
  },
  {
   "cell_type": "code",
   "execution_count": 38,
   "metadata": {
    "collapsed": false
   },
   "outputs": [
    {
     "name": "stdout",
     "output_type": "stream",
     "text": [
      "add_bam_file_track entered\n",
      "created related models\n",
      "sorted bam\n",
      "indexed bam\n",
      "about to add bam file track\n",
      "added bam file track\n"
     ]
    }
   ],
   "source": [
    "assembly.add_bam_track(mg1655, sv_indicants_no_mates_bam, 'split_unmapped_no_mates_3')"
   ]
  },
  {
   "cell_type": "code",
   "execution_count": 31,
   "metadata": {
    "collapsed": false
   },
   "outputs": [
    {
     "data": {
      "text/plain": [
       "'<(gzip -dc /home/wahern/projects/millstone/genome_designer/conf/../temp_data/projects/6e766eb8/samples/eab3affa/tmpWISJgX_recoli_lib1_rec07_2.fq.gz)'"
      ]
     },
     "execution_count": 31,
     "metadata": {},
     "output_type": "execute_result"
    }
   ],
   "source": [
    "from main.models import ExperimentSample\n",
    "es = ExperimentSample.objects.get(label='lib1_rec07')\n",
    "es.dataset_set.all()[1].wrap_if_compressed()"
   ]
  },
  {
   "cell_type": "code",
   "execution_count": null,
   "metadata": {
    "collapsed": true
   },
   "outputs": [],
   "source": [
    "# Filter low quality reads\n",
    "from main.models import ExperimentSampleToAlignment\n",
    "from main.models import Dataset\n",
    "import pysam\n",
    "sample_alignment = ExperimentSampleToAlignment.objects.get(alignment_group__label = 'lib1_rec07_align_a')\n",
    "sample_alignment_bam = sample_alignment.dataset_set.get(type=Dataset.TYPE.BWA_ALIGN)\n",
    "\n",
    "sample_alignmentfile = pysam.AlignmentFile(sample_alignment_bam)\n",
    "counter = 0\n",
    "iter\n",
    "for read in sample_alignmentfile:"
   ]
  },
  {
   "cell_type": "code",
   "execution_count": null,
   "metadata": {
    "collapsed": true
   },
   "outputs": [],
   "source": []
  },
  {
   "cell_type": "code",
   "execution_count": 50,
   "metadata": {
    "collapsed": false
   },
   "outputs": [
    {
     "name": "stdout",
     "output_type": "stream",
     "text": [
      "removing duplicates\n",
      "adding mate pairs\n",
      "sorting\n",
      "/home/wahern/projects/millstone/genome_designer/conf/../temp_data/projects/6e766eb8/alignment_groups/b66efb92/sample_alignments/0418e714/genome_finishing/1/bwa_align.clipped_discordant_split_unmapped.with_pairs.bam\n"
     ]
    }
   ],
   "source": [
    "# Combine sv_indicant bam files\n",
    "\n",
    "import genome_finish.millstone_de_novo_fns as millstone_de_novo_fns\n",
    "from main.model_utils import get_dataset_with_type\n",
    "from utils.bam_utils import concatenate_bams\n",
    "from utils.bam_utils import make_bam\n",
    "from utils.bam_utils import make_sam\n",
    "from utils.bam_utils import rmdup\n",
    "from utils.bam_utils import sort_bam_by_name\n",
    "\n",
    "sample_alignment = ExperimentSampleToAlignment.objects.get(alignment_group__label = 'lib1_rec07_align_a')\n",
    "data_dir = os.path.join(sample_alignment.get_model_data_dir(), 'genome_finishing/1')\n",
    "\n",
    "sv_indicant_types = {\n",
    "        'clipped': True,\n",
    "        'split': True,\n",
    "        'unmapped': True,\n",
    "        'discordant': True\n",
    "    }\n",
    "\n",
    "alignment_prefix = os.path.join(data_dir, 'bwa_align')\n",
    "\n",
    "# Extract SV indicating reads\n",
    "sv_bams_list = []\n",
    "\n",
    "unmapped_reads = alignment_prefix + '.unmapped.bam'\n",
    "if sv_indicant_types['unmapped']:\n",
    "    sv_bams_list.append(unmapped_reads)\n",
    "\n",
    "split_reads = alignment_prefix + '.split.bam'\n",
    "if sv_indicant_types['split']:\n",
    "    sv_bams_list.append(split_reads)\n",
    "\n",
    "clipped_reads = alignment_prefix + '.clipped.bam'\n",
    "if sv_indicant_types['clipped']:\n",
    "    sv_bams_list.append(clipped_reads)\n",
    "\n",
    "if sv_indicant_types['discordant']:\n",
    "    discordant_reads = sample_alignment.dataset_set.get(\n",
    "            type=Dataset.TYPE.BWA_DISCORDANT).get_absolute_location()\n",
    "    sv_bams_list.append(discordant_reads)\n",
    "\n",
    "\n",
    "compilation_prefix = alignment_prefix + '.' + '_'.join([k for k in sorted(sv_indicant_types.keys()) if sv_indicant_types[k]])\n",
    "# Aggregate SV indicants\n",
    "SV_indicants_bam = compilation_prefix + '.bam'\n",
    "# if os.path.exists(SV_indicants_bam):\n",
    "#     raise Exception(SV_indicants_bam + ' already exists')\n",
    "\n",
    "if not os.path.exists(SV_indicants_bam):\n",
    "    concatenate_bams(\n",
    "            sv_bams_list,\n",
    "            SV_indicants_bam)\n",
    "\n",
    "# Remove duplicates\n",
    "print 'removing duplicates'\n",
    "SV_indicants_no_dups_bam = compilation_prefix + '.no_dups.bam'\n",
    "if not os.path.exists(SV_indicants_no_dups_bam):\n",
    "    rmdup(SV_indicants_bam, SV_indicants_no_dups_bam)\n",
    "\n",
    "# Convert SV indicants bam to sam\n",
    "SV_indicants_sam = compilation_prefix + '.no_dups.sam'\n",
    "if not os.path.exists(SV_indicants_sam):\n",
    "    make_sam(SV_indicants_no_dups_bam, SV_indicants_sam)\n",
    "\n",
    "# Add mate pairs to SV indicants sam\n",
    "    # Grab alignment bam file-path\n",
    "print 'adding mate pairs'\n",
    "alignment_bam = get_dataset_with_type(\n",
    "        sample_alignment,\n",
    "        Dataset.TYPE.BWA_ALIGN).get_absolute_location()\n",
    "SV_indicants_with_pairs_sam = (\n",
    "    compilation_prefix + '.with_pairs.sam')\n",
    "if not os.path.exists(SV_indicants_with_pairs_sam):\n",
    "    millstone_de_novo_fns.add_paired_mates(\n",
    "            SV_indicants_sam, alignment_bam, SV_indicants_with_pairs_sam)\n",
    "\n",
    "# Make bam of SV indicants w/mate pairs\n",
    "SV_indicants_with_pairs_bam = (\n",
    "    compilation_prefix + '.with_pairs.bam')\n",
    "if not os.path.exists(SV_indicants_with_pairs_bam):\n",
    "    make_bam(SV_indicants_with_pairs_sam, SV_indicants_with_pairs_bam)\n",
    "\n",
    "# Sort for velvet assembly\n",
    "print 'sorting'\n",
    "sort_bam_by_name(SV_indicants_with_pairs_bam)\n",
    "\n",
    "print SV_indicants_with_pairs_bam"
   ]
  },
  {
   "cell_type": "code",
   "execution_count": 62,
   "metadata": {
    "collapsed": false
   },
   "outputs": [
    {
     "data": {
      "text/plain": [
       "['/home/wahern/projects/millstone/genome_designer/conf/../temp_data/projects/6e766eb8/alignment_groups/b66efb92/sample_alignments/0418e714/genome_finishing/1/run_0_velvet_k21/contigs.fa']"
      ]
     },
     "execution_count": 62,
     "metadata": {},
     "output_type": "execute_result"
    }
   ],
   "source": [
    "#Assemble\n",
    "\n",
    "from genome_finish import assembly\n",
    "from pipeline.read_alignment import get_insert_size_mean_and_stdev\n",
    "\n",
    "sample_alignment = ExperimentSampleToAlignment.objects.get(alignment_group__label = 'lib1_rec07_align_a')\n",
    "data_dir = os.path.join(sample_alignment.get_model_data_dir(), 'genome_finishing/1')\n",
    "\n",
    "sv_indicants_bam = ('/home/wahern/projects/millstone/genome_designer/conf/../' +\n",
    "        'temp_data/projects/6e766eb8/alignment_groups/b66efb92/sample_alignments/' +\n",
    "        '0418e714/genome_finishing/1/bwa_align.clipped_discordant_split_unmapped.with_pairs.bam')\n",
    "\n",
    "# Find insertion metrics\n",
    "ins_length, ins_length_sd = get_insert_size_mean_and_stdev(\n",
    "        sample_alignment)\n",
    "velvet_opts = {\n",
    "    'velveth': {\n",
    "        'shortPaired': ''\n",
    "    },\n",
    "    'velvetg': {\n",
    "        'read_trkg': 'yes',\n",
    "        'ins_length': ins_length,\n",
    "        'ins_length_sd': ins_length_sd,\n",
    "        'cov_cutoff': 30,\n",
    "    }\n",
    "}\n",
    "\n",
    "reference_genome = sample_alignment.alignment_group.reference_genome\n",
    "\n",
    "contig_label_base = '_'.join(\n",
    "            [reference_genome.label, sample_alignment.experiment_sample.label])\n",
    "\n",
    "\n",
    "run_id = 'run_0_'\n",
    "\n",
    "\n",
    "assembly.assemble_with_velvet(data_dir, velvet_opts, sv_indicants_bam,\n",
    "        reference_genome, sample_alignment,\n",
    "        contig_label_base, velvet_dir_prefix = run_id)"
   ]
  },
  {
   "cell_type": "code",
   "execution_count": 60,
   "metadata": {
    "collapsed": false
   },
   "outputs": [
    {
     "data": {
      "text/plain": [
       "<module 'genome_finish.assembly' from 'genome_finish/assembly.pyc'>"
      ]
     },
     "execution_count": 60,
     "metadata": {},
     "output_type": "execute_result"
    }
   ],
   "source": [
    "reload(assembly)"
   ]
  },
  {
   "cell_type": "code",
   "execution_count": 63,
   "metadata": {
    "collapsed": false
   },
   "outputs": [
    {
     "name": "stdout",
     "output_type": "stream",
     "text": [
      "1797 unmapped reads in contig\n",
      "37 mapped mates found\n"
     ]
    }
   ],
   "source": [
    "import os\n",
    "\n",
    "import pysam\n",
    "\n",
    "from main.models import Contig\n",
    "from main.models import Dataset\n",
    "from genome_finish import insertion_placement_read_trkg\n",
    "from genome_finish.assembly import add_bam_track\n",
    "\n",
    "# contig_label = 'mg1655_lib1_rec07_NODE_22_length_5491_cov_157.923141'\n",
    "# contig_label = 'ins_1kb_ins_1kb_sample_NODE_1_length_1966_cov_23.010174'\n",
    "contig_label = 'mg1655_lib1_rec07_NODE_114_length_1007_cov_137.319763'\n",
    "contig = Contig.objects.get(label=contig_label)\n",
    "\n",
    "unmapped_contig_reads = insertion_placement_read_trkg.extract_contig_reads(contig, read_category='unmapped')\n",
    "print len(unmapped_contig_reads), 'unmapped reads in contig'\n",
    "\n",
    "original_align = contig.experiment_sample_to_alignment.dataset_set.get(type=Dataset.TYPE.BWA_ALIGN).get_absolute_location()\n",
    "original_alignmentfile = pysam.AlignmentFile(original_align)\n",
    "found_mates = []\n",
    "for read in unmapped_contig_reads:\n",
    "    if not read.mate_is_unmapped:\n",
    "        mate = original_alignmentfile.mate(read)\n",
    "        found_mates.append(mate)\n",
    "print len(found_mates), 'mapped mates found'\n",
    "\n",
    "mates_of_unmapped_bam_file = os.path.join(\n",
    "        contig.get_model_data_dir(), 'mates_of_unmapped.bam')\n",
    "mates_of_unmapped_alignment_file = pysam.AlignmentFile(\n",
    "    mates_of_unmapped_bam_file, \"wb\", template=original_alignmentfile)\n",
    "for read in found_mates:\n",
    "    mates_of_unmapped_alignment_file.write(read)\n",
    "mates_of_unmapped_alignment_file.close()\n",
    "\n",
    "# label = ('Contig_' + str(contig.metadata['node_number']) + '_length_' +\n",
    "#         str(contig.num_bases) + '_mates_of_unmapped')\n",
    "# add_bam_track(contig.parent_reference_genome, mates_of_unmapped_bam_file, label)\n",
    "\n"
   ]
  },
  {
   "cell_type": "code",
   "execution_count": 68,
   "metadata": {
    "collapsed": false
   },
   "outputs": [
    {
     "name": "stdout",
     "output_type": "stream",
     "text": [
      "add_bam_file_track entered\n",
      "created related models\n",
      "sorted bam\n",
      "indexed bam\n",
      "about to add bam file track\n",
      "added bam file track\n"
     ]
    }
   ],
   "source": [
    "label = ('Contig_' + str(contig.metadata['node_number']) + '_length_' +\n",
    "        str(contig.num_bases) + '_mates_of_unmapped')\n",
    "add_bam_track(contig.parent_reference_genome, mates_of_unmapped_bam_file, label)"
   ]
  },
  {
   "cell_type": "code",
   "execution_count": 66,
   "metadata": {
    "collapsed": true
   },
   "outputs": [],
   "source": [
    "%matplotlib inline"
   ]
  },
  {
   "cell_type": "code",
   "execution_count": 67,
   "metadata": {
    "collapsed": false
   },
   "outputs": [
    {
     "data": {
      "text/plain": [
       "(array([  3.,   2.,   2.,   3.,   1.,   1.,  21.,   1.,   1.,   2.]),\n",
       " array([  190852. ,   625884.8,  1060917.6,  1495950.4,  1930983.2,\n",
       "         2366016. ,  2801048.8,  3236081.6,  3671114.4,  4106147.2,\n",
       "         4541180. ]),\n",
       " <a list of 10 Patch objects>)"
      ]
     },
     "execution_count": 67,
     "metadata": {},
     "output_type": "execute_result"
    },
    {
     "data": {
      "image/png": "[encoded data removed]",
      "text/plain": [
       "<matplotlib.figure.Figure at 0x7f75ac5fd550>"
      ]
     },
     "metadata": {},
     "output_type": "display_data"
    }
   ],
   "source": [
    "import matplotlib.pyplot as plt\n",
    "import numpy as np\n",
    "plt.hist([read.reference_end for read in found_mates])"
   ]
  },
  {
   "cell_type": "code",
   "execution_count": 59,
   "metadata": {
    "collapsed": false
   },
   "outputs": [
    {
     "name": "stdout",
     "output_type": "stream",
     "text": [
      "\u001b[0m\u001b[01;34m0\u001b[0m/  \u001b[01;34m1\u001b[0m/  \u001b[01;34massembly_0\u001b[0m/\r\n"
     ]
    }
   ],
   "source": [
    "ls /home/wahern/projects/millstone/genome_designer/conf/../temp_data/projects/6e766eb8/alignment_groups/b66efb92/sample_alignments/0418e714/genome_finishing"
   ]
  },
  {
   "cell_type": "code",
   "execution_count": 69,
   "metadata": {
    "collapsed": true
   },
   "outputs": [],
   "source": [
    "d1 = {1:11,2:22}\n",
    "d2 = {}\n",
    "d1.update(d2)"
   ]
  },
  {
   "cell_type": "code",
   "execution_count": 70,
   "metadata": {
    "collapsed": false
   },
   "outputs": [
    {
     "data": {
      "text/plain": [
       "{1: 11, 2: 22}"
      ]
     },
     "execution_count": 70,
     "metadata": {},
     "output_type": "execute_result"
    }
   ],
   "source": [
    "d1"
   ]
  },
  {
   "cell_type": "code",
   "execution_count": 72,
   "metadata": {
    "collapsed": true
   },
   "outputs": [],
   "source": [
    "import pickle\n",
    "import os\n",
    "\n",
    "data_dir = '/home/wahern/projects/millstone/genome_designer/conf/../temp_data/projects/ecbcef23/alignment_groups/85ad25c6/sample_alignments/37886b79/assembly/3'\n",
    "metadata_file = os.path.join(data_dir, 'metadata.txt')"
   ]
  },
  {
   "cell_type": "code",
   "execution_count": 73,
   "metadata": {
    "collapsed": false
   },
   "outputs": [
    {
     "data": {
      "text/plain": [
       "True"
      ]
     },
     "execution_count": 73,
     "metadata": {},
     "output_type": "execute_result"
    }
   ],
   "source": [
    "os.path.exists(metadata_file)"
   ]
  },
  {
   "cell_type": "code",
   "execution_count": 75,
   "metadata": {
    "collapsed": false
   },
   "outputs": [],
   "source": [
    "with open(metadata_file) as fh:\n",
    "    metadata_obj = pickle.load(fh)"
   ]
  },
  {
   "cell_type": "code",
   "execution_count": 77,
   "metadata": {
    "collapsed": false
   },
   "outputs": [
    {
     "data": {
      "text/plain": [
       "'/home/wahern/projects/millstone/genome_designer/conf/../temp_data/projects/ecbcef23/alignment_groups/85ad25c6/sample_alignments/37886b79/bwa_align.discordant_split_clipped_unmapped.with_pairs.bam'"
      ]
     },
     "execution_count": 77,
     "metadata": {},
     "output_type": "execute_result"
    }
   ],
   "source": [
    "metadata_obj['sv_indicants_bam']"
   ]
  },
  {
   "cell_type": "code",
   "execution_count": 78,
   "metadata": {
    "collapsed": false
   },
   "outputs": [
    {
     "data": {
      "text/plain": [
       "{'velvetg': {'cov_cutoff': 10,\n",
       "  'ins_length': 499,\n",
       "  'ins_length_sd': 2,\n",
       "  'read_trkg': 'yes'},\n",
       " 'velveth': {'hash_length': 21, 'shortPaired': ''}}"
      ]
     },
     "execution_count": 78,
     "metadata": {},
     "output_type": "execute_result"
    }
   ],
   "source": [
    "metadata_obj['velvet_opts']"
   ]
  },
  {
   "cell_type": "code",
   "execution_count": null,
   "metadata": {
    "collapsed": true
   },
   "outputs": [],
   "source": []
  }
 ],
 "metadata": {
  "kernelspec": {
   "display_name": "Python 2",
   "language": "python",
   "name": "python2"
  },
  "language_info": {
   "codemirror_mode": {
    "name": "ipython",
    "version": 2
   },
   "file_extension": ".py",
   "mimetype": "text/x-python",
   "name": "python",
   "nbconvert_exporter": "python",
   "pygments_lexer": "ipython2",
   "version": "2.7.6"
  }
 },
 "nbformat": 4,
 "nbformat_minor": 0
}
