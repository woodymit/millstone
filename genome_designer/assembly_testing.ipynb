{
 "cells": [
  {
   "cell_type": "code",
   "execution_count": 14,
   "metadata": {
    "collapsed": false
   },
   "outputs": [
    {
     "data": {
      "text/plain": [
       "'/home/wahern/projects/millstone/genome_designer'"
      ]
     },
     "execution_count": 14,
     "metadata": {},
     "output_type": "execute_result"
    }
   ],
   "source": [
    "from django.core.management import setup_environ\n",
    "import settings\n",
    "setup_environ(settings)"
   ]
  },
  {
   "cell_type": "code",
   "execution_count": 25,
   "metadata": {
    "collapsed": false
   },
   "outputs": [],
   "source": [
    "from genome_finish.assembly import assemble_with_velvet\n",
    "import os\n",
    "from main.models import ReferenceGenome\n",
    "from main.models import ExperimentSampleToAlignment\n",
    "from main.models import Contig"
   ]
  },
  {
   "cell_type": "code",
   "execution_count": 40,
   "metadata": {
    "collapsed": true
   },
   "outputs": [],
   "source": [
    "def test_velvet_opts(velvet_opts):\n",
    "    \n",
    "    genome_finishing_dir = ('/home/wahern/projects/millstone/genome_designer/' +\n",
    "            'temp_data/projects/77e6b3d5/alignment_groups/7700976a/' +\n",
    "            'sample_alignments/d25857af/genome_finishing')\n",
    "    \n",
    "    sv_indicants_bam = os.path.join(genome_finishing_dir, '2/bwa_align.SV_indicants_with_pairs.bam')\n",
    "    \n",
    "    experiment_sample_to_alignment = ExperimentSampleToAlignment.objects.get(uid='d25857af')\n",
    "    reference_genome = experiment_sample_to_alignment.alignment_group.reference_genome\n",
    "    contig_label_base = '_'.join(\n",
    "            [reference_genome.label, experiment_sample_to_alignment.experiment_sample.label])\n",
    "    \n",
    "    data_dir = os.path.join(genome_finishing_dir, '0')\n",
    "    data_dir_counter = 0\n",
    "    while(os.path.exists(data_dir)):\n",
    "        data_dir_counter += 1\n",
    "        data_dir = os.path.join(genome_finishing_dir, str(data_dir_counter))\n",
    "    os.mkdir(data_dir)\n",
    "    \n",
    "    initial_contigs = Contig.objects.filter(parent_reference_genome=reference_genome)\n",
    "    initial_contigs_uids = [c.uid for c in initial_contigs]\n",
    "    \n",
    "    contig_files = assemble_with_velvet(\n",
    "            data_dir, velvet_opts, sv_indicants_bam,\n",
    "            reference_genome, experiment_sample_to_alignment,\n",
    "            contig_label_base)\n",
    "    \n",
    "    created_contigs = Contig.objects.filter(parent_reference_genome=reference_genome).exclude(\n",
    "            uid__in=initial_contigs_uids)\n",
    "    \n",
    "    print \"%i contigs found\\n\" % (created_contigs.count())\n",
    "    \n",
    "    return {\n",
    "            'contig_files': contig_files,\n",
    "            'created_contigs': created_contigs\n",
    "    }"
   ]
  },
  {
   "cell_type": "code",
   "execution_count": 22,
   "metadata": {
    "collapsed": false
   },
   "outputs": [
    {
     "data": {
      "text/plain": [
       "['/home/wahern/projects/millstone/genome_designer/temp_data/projects/77e6b3d5/alignment_groups/7700976a/sample_alignments/d25857af/genome_finishing/3/velvet_k21/contigs.fa']"
      ]
     },
     "execution_count": 22,
     "metadata": {},
     "output_type": "execute_result"
    }
   ],
   "source": [
    "velvet_opts = {\n",
    "    'velveth': {\n",
    "        'shortPaired': ''\n",
    "    },\n",
    "    'velvetg': {\n",
    "        'cov_cutoff': 20\n",
    "    }\n",
    "}\n",
    "\n",
    "test_velvet_opts(velvet_opts)"
   ]
  },
  {
   "cell_type": "code",
   "execution_count": 41,
   "metadata": {
    "collapsed": false
   },
   "outputs": [
    {
     "name": "stdout",
     "output_type": "stream",
     "text": [
      "983 contigs found\n",
      "\n"
     ]
    },
    {
     "data": {
      "text/plain": [
       "{'contig_files': ['/home/wahern/projects/millstone/genome_designer/temp_data/projects/77e6b3d5/alignment_groups/7700976a/sample_alignments/d25857af/genome_finishing/5/velvet_k21/contigs.fa'],\n",
       " 'created_contigs': [<Contig: Contig object>, <Contig: Contig object>, <Contig: Contig object>, <Contig: Contig object>, <Contig: Contig object>, <Contig: Contig object>, <Contig: Contig object>, <Contig: Contig object>, <Contig: Contig object>, <Contig: Contig object>, <Contig: Contig object>, <Contig: Contig object>, <Contig: Contig object>, <Contig: Contig object>, <Contig: Contig object>, <Contig: Contig object>, <Contig: Contig object>, <Contig: Contig object>, <Contig: Contig object>, <Contig: Contig object>, '...(remaining elements truncated)...']}"
      ]
     },
     "execution_count": 41,
     "metadata": {},
     "output_type": "execute_result"
    }
   ],
   "source": [
    "velvet_opts_2 = {\n",
    "    'velveth': {\n",
    "        'shortPaired': ''\n",
    "    },\n",
    "    'velvetg': {\n",
    "        'cov_cutoff': 20,\n",
    "        'ins_length': 200,\n",
    "        'ins_length_sd': 90\n",
    "    }\n",
    "}\n",
    "\n",
    "test_velvet_opts(velvet_opts)"
   ]
  },
  {
   "cell_type": "code",
   "execution_count": 37,
   "metadata": {
    "collapsed": false
   },
   "outputs": [],
   "source": [
    "%matplotlib inline"
   ]
  },
  {
   "cell_type": "code",
   "execution_count": 38,
   "metadata": {
    "collapsed": true
   },
   "outputs": [],
   "source": [
    "import matplotlib.pyplot as plt\n",
    "import numpy as np"
   ]
  },
  {
   "cell_type": "code",
   "execution_count": 69,
   "metadata": {
    "collapsed": false
   },
   "outputs": [
    {
     "data": {
      "text/plain": [
       "<matplotlib.text.Text at 0x7fb150eb00d0>"
      ]
     },
     "execution_count": 69,
     "metadata": {},
     "output_type": "execute_result"
    },
    {
     "data": {
      "image/png": "[encoded data removed]",
      "text/plain": [
       "<matplotlib.figure.Figure at 0x7fb152b46850>"
      ]
     },
     "metadata": {},
     "output_type": "display_data"
    }
   ],
   "source": [
    "contigs = Out[41]['created_contigs']\n",
    "\n",
    "coverage = []\n",
    "length = []\n",
    "for c in contigs:\n",
    "    coverage.append(c.coverage)\n",
    "    length.append(c.num_bases)\n",
    "\n",
    "plt.scatter(coverage, length)\n",
    "plt.xlabel('Coverage')\n",
    "plt.ylabel('Length')"
   ]
  },
  {
   "cell_type": "code",
   "execution_count": 59,
   "metadata": {
    "collapsed": true
   },
   "outputs": [],
   "source": [
    "outliers = []\n",
    "outliers.append(coverage.index(max(coverage)))\n",
    "outliers.append(length.index(max(length)))\n",
    "\n",
    "coverage_filt = coverage[:]\n",
    "length_filt = length[:]\n",
    "for i in sorted(outliers, reverse=True):\n",
    "    del coverage_filt[i]\n",
    "    del length_filt[i]"
   ]
  },
  {
   "cell_type": "code",
   "execution_count": 68,
   "metadata": {
    "collapsed": false
   },
   "outputs": [
    {
     "data": {
      "text/plain": [
       "<matplotlib.text.Text at 0x7fb152c8cf50>"
      ]
     },
     "execution_count": 68,
     "metadata": {},
     "output_type": "execute_result"
    },
    {
     "data": {
      "image/png": "[encoded data removed]",
      "text/plain": [
       "<matplotlib.figure.Figure at 0x7fb152c6e910>"
      ]
     },
     "metadata": {},
     "output_type": "display_data"
    }
   ],
   "source": [
    "plt.scatter(coverage_filt, length_filt)\n",
    "plt.xlabel('Coverage')\n",
    "plt.ylabel('Length')"
   ]
  },
  {
   "cell_type": "code",
   "execution_count": 64,
   "metadata": {
    "collapsed": false
   },
   "outputs": [
    {
     "data": {
      "text/plain": [
       "(array([ 623.,  231.,   69.,   28.,   11.,    3.,    3.,    6.,    2.,\n",
       "           1.,    0.,    0.,    2.,    0.,    0.,    0.,    0.,    1.,\n",
       "           0.,    0.,    0.,    0.,    0.,    0.,    0.,    0.,    0.,\n",
       "           0.,    0.,    1.]),\n",
       " array([  20.166666 ,   26.7513545,   33.336043 ,   39.9207315,\n",
       "          46.50542  ,   53.0901085,   59.674797 ,   66.2594855,\n",
       "          72.844174 ,   79.4288625,   86.013551 ,   92.5982395,\n",
       "          99.182928 ,  105.7676165,  112.352305 ,  118.9369935,\n",
       "         125.521682 ,  132.1063705,  138.691059 ,  145.2757475,\n",
       "         151.860436 ,  158.4451245,  165.029813 ,  171.6145015,\n",
       "         178.19919  ,  184.7838785,  191.368567 ,  197.9532555,\n",
       "         204.537944 ,  211.1226325,  217.707321 ]),\n",
       " <a list of 30 Patch objects>)"
      ]
     },
     "execution_count": 64,
     "metadata": {},
     "output_type": "execute_result"
    },
    {
     "data": {
      "image/png": "[encoded data removed]",
      "text/plain": [
       "<matplotlib.figure.Figure at 0x7fb153098e10>"
      ]
     },
     "metadata": {},
     "output_type": "display_data"
    }
   ],
   "source": [
    "plt.hist(coverage_filt, bins=30)"
   ]
  },
  {
   "cell_type": "code",
   "execution_count": null,
   "metadata": {
    "collapsed": true
   },
   "outputs": [],
   "source": []
  }
 ],
 "metadata": {
  "kernelspec": {
   "display_name": "Python 2",
   "language": "python",
   "name": "python2"
  },
  "language_info": {
   "codemirror_mode": {
    "name": "ipython",
    "version": 2
   },
   "file_extension": ".py",
   "mimetype": "text/x-python",
   "name": "python",
   "nbconvert_exporter": "python",
   "pygments_lexer": "ipython2",
   "version": "2.7.6"
  }
 },
 "nbformat": 4,
 "nbformat_minor": 0
}
