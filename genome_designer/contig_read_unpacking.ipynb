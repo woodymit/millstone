{
 "cells": [
  {
   "cell_type": "code",
   "execution_count": 2,
   "metadata": {
    "collapsed": false
   },
   "outputs": [
    {
     "data": {
      "text/plain": [
       "'/home/wahern/projects/millstone/genome_designer'"
      ]
     },
     "execution_count": 2,
     "metadata": {},
     "output_type": "execute_result"
    }
   ],
   "source": [
    "from django.core.management import setup_environ\n",
    "import settings\n",
    "setup_environ(settings)"
   ]
  },
  {
   "cell_type": "code",
   "execution_count": 3,
   "metadata": {
    "collapsed": false
   },
   "outputs": [],
   "source": [
    "import os\n",
    "from main.models import ExperimentSampleToAlignment\n",
    "sample_alignment = ExperimentSampleToAlignment.objects.get(experiment_sample__label='lib1_rec07')\n",
    "\n",
    "genome_finish_dir = os.path.join(sample_alignment.get_model_data_dir(), 'genome_finishing')"
   ]
  },
  {
   "cell_type": "code",
   "execution_count": 6,
   "metadata": {
    "collapsed": false
   },
   "outputs": [
    {
     "data": {
      "text/plain": [
       "'/home/wahern/projects/millstone/genome_designer/conf/../temp_data/projects/6e766eb8/alignment_groups/9c54183d/sample_alignments/ca0c79af/genome_finishing'"
      ]
     },
     "execution_count": 6,
     "metadata": {},
     "output_type": "execute_result"
    }
   ],
   "source": [
    "genome_finish_dir"
   ]
  },
  {
   "cell_type": "code",
   "execution_count": 7,
   "metadata": {
    "collapsed": false
   },
   "outputs": [],
   "source": [
    "read_unpacking_dir = os.path.join(genome_finish_dir, '0', 'read_unpacking')\n",
    "#os.mkdir(read_unpacking_dir)"
   ]
  },
  {
   "cell_type": "code",
   "execution_count": 8,
   "metadata": {
    "collapsed": false
   },
   "outputs": [],
   "source": [
    "import subprocess\n",
    "cmd = 'ls'\n",
    "\n",
    "fn = os.path.join(read_unpacking_dir, 'test_output.txt')\n",
    "with open(fn, 'w') as fh:\n",
    "    subprocess.call(cmd, shell=True, stdout=fh)"
   ]
  },
  {
   "cell_type": "code",
   "execution_count": 15,
   "metadata": {
    "collapsed": false
   },
   "outputs": [
    {
     "name": "stdout",
     "output_type": "stream",
     "text": [
      "/home/wahern/projects/millstone/genome_designer/conf/../tools/velvet/contrib/extractContigReads/extractContigReads.pl 1 /home/wahern/projects/millstone/genome_designer/conf/../temp_data/projects/6e766eb8/alignment_groups/9c54183d/sample_alignments/ca0c79af/genome_finishing/0/velvet_k21\n"
     ]
    }
   ],
   "source": [
    "velvet_dir = os.path.join(settings.TOOLS_DIR, 'velvet')\n",
    "extract_contig_reads_executable = os.path.join(velvet_dir, 'contrib/extractContigReads/extractContigReads.pl')\n",
    "\n",
    "assembly_dir = os.path.join(genome_finish_dir, '0', 'velvet_k21')\n",
    "\n",
    "cmd = [extract_contig_reads_executable, '1', assembly_dir]\n",
    "cmd = ' '.join(cmd)\n",
    "print cmd\n",
    "\n",
    "fn = os.path.join(read_unpacking_dir, 'extracted.fa')\n",
    "with open(fn, 'w') as fh:\n",
    "    subprocess.call(cmd, shell=True, stdout=fh)"
   ]
  },
  {
   "cell_type": "code",
   "execution_count": 62,
   "metadata": {
    "collapsed": false
   },
   "outputs": [
    {
     "name": "stdout",
     "output_type": "stream",
     "text": [
      "read.query_name: HSQ700642:127:D0F9HACXX:5:1101:1126:71563\n",
      "read.query_name: HSQ700642:127:D0F9HACXX:5:1101:1126:71563\n",
      "read.query_name: HSQ700642:127:D0F9HACXX:5:1101:1126:95656\n",
      "read.query_name: HSQ700642:127:D0F9HACXX:5:1101:1126:95656\n",
      "read.query_name: HSQ700642:127:D0F9HACXX:5:1101:1127:6749\n"
     ]
    }
   ],
   "source": [
    "import pysam\n",
    "import re\n",
    "p1 = re.compile('>(\\S+)/(\\d)')\n",
    "\n",
    "# reads = []\n",
    "# with open(fn) as fh:\n",
    "#     counter = 0\n",
    "#     for line in fh:\n",
    "#         #print 'line', counter, ':'\n",
    "#         print line\n",
    "        \n",
    "#         m1 = p1.match(line)\n",
    "#         if m1:\n",
    "#             reads.append({'read_id': m1.group(1), 'read_number': m1.group(2)})\n",
    "#             print 're match:\\n\\tgroup(1):', m1.group(1), '\\n\\tgroup(2):', m1.group(2)\n",
    "#         counter += 1\n",
    "#         if counter == 4:\n",
    "#             break\n",
    "\n",
    "# print reads\n",
    "\n",
    "sv_indicants_path = os.path.join(genome_finish_dir, '0/bwa_align.SV_indicants_with_pairs.bam')\n",
    "sam_file = pysam.AlignmentFile(sv_indicants_path)\n",
    "counter = 0\n",
    "for read in sam_file:\n",
    "    print 'read.query_name:', read.query_name\n",
    "    counter += 1\n",
    "    if counter == 5:\n",
    "        break"
   ]
  },
  {
   "cell_type": "code",
   "execution_count": 18,
   "metadata": {
    "collapsed": false
   },
   "outputs": [
    {
     "name": "stdout",
     "output_type": "stream",
     "text": [
      "<(gzip -dc /home/wahern/projects/millstone/genome_designer/conf/../temp_data/projects/6e766eb8/samples/eab3affa/tmprbj2gz_recoli_lib1_rec07_1.fq.gz)\n"
     ]
    }
   ],
   "source": [
    "from main.models import Dataset\n",
    "fq1_path = sample_alignment.experiment_sample.dataset_set.get(type=Dataset.TYPE.FASTQ1).wrap_if_compressed()\n",
    "print fq1_path"
   ]
  },
  {
   "cell_type": "code",
   "execution_count": 10,
   "metadata": {
    "collapsed": false
   },
   "outputs": [
    {
     "name": "stdout",
     "output_type": "stream",
     "text": [
      "number_contig_reads: 588\n",
      "len(sv_indicant_reads_in_contig): 588\n"
     ]
    }
   ],
   "source": [
    "import os\n",
    "import re\n",
    "import pysam\n",
    "from collections import defaultdict\n",
    "\n",
    "velvet_dir = os.path.join(settings.TOOLS_DIR, 'velvet')\n",
    "extract_contig_reads_executable = os.path.join(velvet_dir, 'contrib/extractContigReads/extractContigReads.pl')\n",
    "\n",
    "sample_alignment = ExperimentSampleToAlignment.objects.get(experiment_sample__label='ins_1kb_sample')\n",
    "genome_finish_dir = os.path.join(sample_alignment.get_model_data_dir(), 'genome_finishing')\n",
    "# print 'genome_finish_dir:', genome_finish_dir\n",
    "assembly_dir = os.path.join(genome_finish_dir, '1', 'velvet_k21')\n",
    "\n",
    "read_unpacking_dir = os.path.join(genome_finish_dir, '1', 'read_unpacking')\n",
    "if not os.path.exists(read_unpacking_dir):\n",
    "    os.mkdir(read_unpacking_dir)\n",
    "\n",
    "contig_number = 1\n",
    "cmd = [extract_contig_reads_executable, str(contig_number), assembly_dir]\n",
    "cmd = ' '.join(cmd)\n",
    "\n",
    "contig_reads_fasta = os.path.join(read_unpacking_dir, 'contig_' + str(contig_number) + '_reads.fa')\n",
    "if not os.path.exists(contig_reads_fasta):\n",
    "    with open(contig_reads_fasta, 'w') as fh:\n",
    "        subprocess.call(cmd, shell=True, stdout=fh)\n",
    "\n",
    "p1 = re.compile('>(\\S+)/(\\d)')\n",
    "contig_reads = defaultdict(list)\n",
    "with open(contig_reads_fasta) as fh:\n",
    "    for line in fh:\n",
    "        m1 = p1.match(line)\n",
    "        if m1:\n",
    "            read_id = m1.group(1)\n",
    "            read_number = int(m1.group(2))\n",
    "            contig_reads[read_id].append(read_number)\n",
    "\n",
    "sv_indicants_path = os.path.join(genome_finish_dir, '1/bwa_align.SV_indicants_with_pairs.bam')\n",
    "sam_file = pysam.AlignmentFile(sv_indicants_path)\n",
    "sv_indicant_reads_in_contig = []\n",
    "# counter = 0\n",
    "for read in sam_file:\n",
    "    if read.is_read1:\n",
    "        read_number = 1\n",
    "    elif read.is_read2:\n",
    "        read_number = 2\n",
    "    else:\n",
    "        raise Exception('Read is neither read1 nor read2')\n",
    "\n",
    "    contig_read_numbers = contig_reads.get(read.query_name, [])\n",
    "    if read_number in contig_read_numbers:\n",
    "        sv_indicant_reads_in_contig.append(read)\n",
    "\n",
    "# Verification\n",
    "number_contig_reads = 0\n",
    "for cr in contig_reads.values():\n",
    "    number_contig_reads += len(cr)\n",
    "\n",
    "print 'number_contig_reads:', number_contig_reads\n",
    "print 'len(sv_indicant_reads_in_contig):', len(sv_indicant_reads_in_contig)\n",
    "assert number_contig_reads == len(sv_indicant_reads_in_contig)"
   ]
  },
  {
   "cell_type": "code",
   "execution_count": 17,
   "metadata": {
    "collapsed": false
   },
   "outputs": [],
   "source": [
    "all_ref_pos = []\n",
    "for read in sv_indicant_reads_in_contig:\n",
    "    all_ref_pos.extend(read.get_reference_positions())"
   ]
  },
  {
   "cell_type": "code",
   "execution_count": 23,
   "metadata": {
    "collapsed": false
   },
   "outputs": [
    {
     "data": {
      "text/plain": [
       "20494"
      ]
     },
     "execution_count": 23,
     "metadata": {},
     "output_type": "execute_result"
    }
   ],
   "source": [
    "right_clip_positions = []\n",
    "left_clip_positions = []\n",
    "\n",
    "\n",
    "BAM_CSOFT_CLIP = 4\n",
    "    BAM_CHARD_CLIP = 5\n",
    "    clip_codes = [BAM_CSOFT_CLIP, BAM_CHARD_CLIP]\n",
    "for read in sv_indicant_reads_in_contig:\n",
    "    \n",
    "    "
   ]
  },
  {
   "cell_type": "code",
   "execution_count": null,
   "metadata": {
    "collapsed": true
   },
   "outputs": [],
   "source": []
  }
 ],
 "metadata": {
  "kernelspec": {
   "display_name": "Python 2",
   "language": "python",
   "name": "python2"
  },
  "language_info": {
   "codemirror_mode": {
    "name": "ipython",
    "version": 2
   },
   "file_extension": ".py",
   "mimetype": "text/x-python",
   "name": "python",
   "nbconvert_exporter": "python",
   "pygments_lexer": "ipython2",
   "version": "2.7.6"
  }
 },
 "nbformat": 4,
 "nbformat_minor": 0
}
