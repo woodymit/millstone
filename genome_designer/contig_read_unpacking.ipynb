{
 "cells": [
  {
   "cell_type": "code",
   "execution_count": 3,
   "metadata": {
    "collapsed": false
   },
   "outputs": [
    {
     "data": {
      "text/plain": [
       "'/home/wahern/projects/millstone/genome_designer'"
      ]
     },
     "execution_count": 3,
     "metadata": {},
     "output_type": "execute_result"
    }
   ],
   "source": [
    "from django.core.management import setup_environ\n",
    "import settings\n",
    "setup_environ(settings)"
   ]
  },
  {
   "cell_type": "code",
   "execution_count": 3,
   "metadata": {
    "collapsed": false
   },
   "outputs": [],
   "source": [
    "import os\n",
    "from main.models import ExperimentSampleToAlignment\n",
    "sample_alignment = ExperimentSampleToAlignment.objects.get(experiment_sample__label='lib1_rec07')\n",
    "\n",
    "genome_finish_dir = os.path.join(sample_alignment.get_model_data_dir(), 'genome_finishing')"
   ]
  },
  {
   "cell_type": "code",
   "execution_count": 6,
   "metadata": {
    "collapsed": false
   },
   "outputs": [
    {
     "data": {
      "text/plain": [
       "'/home/wahern/projects/millstone/genome_designer/conf/../temp_data/projects/6e766eb8/alignment_groups/9c54183d/sample_alignments/ca0c79af/genome_finishing'"
      ]
     },
     "execution_count": 6,
     "metadata": {},
     "output_type": "execute_result"
    }
   ],
   "source": [
    "genome_finish_dir"
   ]
  },
  {
   "cell_type": "code",
   "execution_count": 7,
   "metadata": {
    "collapsed": false
   },
   "outputs": [],
   "source": [
    "read_unpacking_dir = os.path.join(genome_finish_dir, '0', 'read_unpacking')\n",
    "#os.mkdir(read_unpacking_dir)"
   ]
  },
  {
   "cell_type": "code",
   "execution_count": 8,
   "metadata": {
    "collapsed": false
   },
   "outputs": [],
   "source": [
    "import subprocess\n",
    "cmd = 'ls'\n",
    "\n",
    "fn = os.path.join(read_unpacking_dir, 'test_output.txt')\n",
    "with open(fn, 'w') as fh:\n",
    "    subprocess.call(cmd, shell=True, stdout=fh)"
   ]
  },
  {
   "cell_type": "code",
   "execution_count": 15,
   "metadata": {
    "collapsed": false
   },
   "outputs": [
    {
     "name": "stdout",
     "output_type": "stream",
     "text": [
      "/home/wahern/projects/millstone/genome_designer/conf/../tools/velvet/contrib/extractContigReads/extractContigReads.pl 1 /home/wahern/projects/millstone/genome_designer/conf/../temp_data/projects/6e766eb8/alignment_groups/9c54183d/sample_alignments/ca0c79af/genome_finishing/0/velvet_k21\n"
     ]
    }
   ],
   "source": [
    "velvet_dir = os.path.join(settings.TOOLS_DIR, 'velvet')\n",
    "extract_contig_reads_executable = os.path.join(velvet_dir, 'contrib/extractContigReads/extractContigReads.pl')\n",
    "\n",
    "assembly_dir = os.path.join(genome_finish_dir, '0', 'velvet_k21')\n",
    "\n",
    "cmd = [extract_contig_reads_executable, '1', assembly_dir]\n",
    "cmd = ' '.join(cmd)\n",
    "print cmd\n",
    "\n",
    "fn = os.path.join(read_unpacking_dir, 'extracted.fa')\n",
    "with open(fn, 'w') as fh:\n",
    "    subprocess.call(cmd, shell=True, stdout=fh)"
   ]
  },
  {
   "cell_type": "code",
   "execution_count": 62,
   "metadata": {
    "collapsed": false
   },
   "outputs": [
    {
     "name": "stdout",
     "output_type": "stream",
     "text": [
      "read.query_name: HSQ700642:127:D0F9HACXX:5:1101:1126:71563\n",
      "read.query_name: HSQ700642:127:D0F9HACXX:5:1101:1126:71563\n",
      "read.query_name: HSQ700642:127:D0F9HACXX:5:1101:1126:95656\n",
      "read.query_name: HSQ700642:127:D0F9HACXX:5:1101:1126:95656\n",
      "read.query_name: HSQ700642:127:D0F9HACXX:5:1101:1127:6749\n"
     ]
    }
   ],
   "source": [
    "import pysam\n",
    "import re\n",
    "p1 = re.compile('>(\\S+)/(\\d)')\n",
    "\n",
    "# reads = []\n",
    "# with open(fn) as fh:\n",
    "#     counter = 0\n",
    "#     for line in fh:\n",
    "#         #print 'line', counter, ':'\n",
    "#         print line\n",
    "        \n",
    "#         m1 = p1.match(line)\n",
    "#         if m1:\n",
    "#             reads.append({'read_id': m1.group(1), 'read_number': m1.group(2)})\n",
    "#             print 're match:\\n\\tgroup(1):', m1.group(1), '\\n\\tgroup(2):', m1.group(2)\n",
    "#         counter += 1\n",
    "#         if counter == 4:\n",
    "#             break\n",
    "\n",
    "# print reads\n",
    "\n",
    "sv_indicants_path = os.path.join(genome_finish_dir, '0/bwa_align.SV_indicants_with_pairs.bam')\n",
    "sam_file = pysam.AlignmentFile(sv_indicants_path)\n",
    "counter = 0\n",
    "for read in sam_file:\n",
    "    print 'read.query_name:', read.query_name\n",
    "    counter += 1\n",
    "    if counter == 5:\n",
    "        break"
   ]
  },
  {
   "cell_type": "code",
   "execution_count": 18,
   "metadata": {
    "collapsed": false
   },
   "outputs": [
    {
     "name": "stdout",
     "output_type": "stream",
     "text": [
      "<(gzip -dc /home/wahern/projects/millstone/genome_designer/conf/../temp_data/projects/6e766eb8/samples/eab3affa/tmprbj2gz_recoli_lib1_rec07_1.fq.gz)\n"
     ]
    }
   ],
   "source": [
    "from main.models import Dataset\n",
    "fq1_path = sample_alignment.experiment_sample.dataset_set.get(type=Dataset.TYPE.FASTQ1).wrap_if_compressed()\n",
    "print fq1_path"
   ]
  },
  {
   "cell_type": "code",
   "execution_count": 39,
   "metadata": {
    "collapsed": false
   },
   "outputs": [
    {
     "name": "stdout",
     "output_type": "stream",
     "text": [
      "len(sv_indicant_reads_in_contig): 56\n"
     ]
    }
   ],
   "source": [
    "import os\n",
    "import re\n",
    "import pysam\n",
    "from collections import defaultdict\n",
    "from main.models import ExperimentSampleToAlignment\n",
    "\n",
    "velvet_dir = os.path.join(settings.TOOLS_DIR, 'velvet')\n",
    "extract_contig_reads_executable = os.path.join(velvet_dir, 'contrib/extractContigReads/extractContigReads.pl')\n",
    "\n",
    "sample_alignment = ExperimentSampleToAlignment.objects.get(experiment_sample__label='ins_1kb_sample')\n",
    "genome_finish_dir = os.path.join(sample_alignment.get_model_data_dir(), 'genome_finishing')\n",
    "# print 'genome_finish_dir:', genome_finish_dir\n",
    "assembly_dir = os.path.join(genome_finish_dir, '1', 'velvet_k21')\n",
    "\n",
    "read_unpacking_dir = os.path.join(genome_finish_dir, '1', 'read_unpacking')\n",
    "if not os.path.exists(read_unpacking_dir):\n",
    "    os.mkdir(read_unpacking_dir)\n",
    "\n",
    "contig_number = 1\n",
    "cmd = [extract_contig_reads_executable, str(contig_number), assembly_dir]\n",
    "cmd = ' '.join(cmd)\n",
    "\n",
    "contig_reads_fasta = os.path.join(read_unpacking_dir, 'contig_' + str(contig_number) + '_reads.fa')\n",
    "if not os.path.exists(contig_reads_fasta):\n",
    "    with open(contig_reads_fasta, 'w') as fh:\n",
    "        subprocess.call(cmd, shell=True, stdout=fh)\n",
    "\n",
    "p1 = re.compile('>(\\S+)/(\\d)')\n",
    "contig_reads = defaultdict(list)\n",
    "with open(contig_reads_fasta) as fh:\n",
    "    for line in fh:\n",
    "        m1 = p1.match(line)\n",
    "        if m1:\n",
    "            read_id = m1.group(1)\n",
    "            read_number = int(m1.group(2))\n",
    "            contig_reads[read_id].append(read_number)\n",
    "\n",
    "# sv_indicants_path = os.path.join(genome_finish_dir, '1/bwa_align.SV_indicants_with_pairs.bam')\n",
    "sv_indicants_path = os.path.join(genome_finish_dir, '1/bwa_align.clipped.bam')\n",
    "sam_file = pysam.AlignmentFile(sv_indicants_path)\n",
    "sv_indicant_reads_in_contig = []\n",
    "# counter = 0\n",
    "for read in sam_file:\n",
    "    if read.is_read1:\n",
    "        read_number = 1\n",
    "    elif read.is_read2:\n",
    "        read_number = 2\n",
    "    else:\n",
    "        raise Exception('Read is neither read1 nor read2')\n",
    "\n",
    "    contig_read_numbers = contig_reads.get(read.query_name, [])\n",
    "    if read_number in contig_read_numbers:\n",
    "        sv_indicant_reads_in_contig.append(read)\n",
    "\n",
    "# Verification\n",
    "number_contig_reads = 0\n",
    "for cr in contig_reads.values():\n",
    "    number_contig_reads += len(cr)\n",
    "\n",
    "# print 'number_contig_reads:', number_contig_reads\n",
    "print 'len(sv_indicant_reads_in_contig):', len(sv_indicant_reads_in_contig)\n",
    "# assert number_contig_reads == len(sv_indicant_reads_in_contig)"
   ]
  },
  {
   "cell_type": "code",
   "execution_count": 25,
   "metadata": {
    "collapsed": false
   },
   "outputs": [],
   "source": [
    "all_ref_pos = []\n",
    "for read in sv_indicant_reads_in_contig:\n",
    "    all_ref_pos.extend(read.get_reference_positions())"
   ]
  },
  {
   "cell_type": "code",
   "execution_count": 24,
   "metadata": {
    "collapsed": false
   },
   "outputs": [
    {
     "ename": "IndentationError",
     "evalue": "unexpected indent (<ipython-input-24-fc61973eca9a>, line 6)",
     "output_type": "error",
     "traceback": [
      "\u001b[1;36m  File \u001b[1;32m\"<ipython-input-24-fc61973eca9a>\"\u001b[1;36m, line \u001b[1;32m6\u001b[0m\n\u001b[1;33m    BAM_CHARD_CLIP = 5\u001b[0m\n\u001b[1;37m    ^\u001b[0m\n\u001b[1;31mIndentationError\u001b[0m\u001b[1;31m:\u001b[0m unexpected indent\n"
     ]
    }
   ],
   "source": [
    "right_clip_positions = []\n",
    "left_clip_positions = []\n",
    "\n",
    "MATCH = 0\n",
    "INS = 1\n",
    "DEL = 2\n",
    "SOFT_CLIP = 4\n",
    "HARD_CLIP = 5\n",
    "CLIP = [SOFT_CLIP, BARD_CLIP]\n",
    "\n",
    "for read in sv_indicant_reads_in_contig:\n",
    "    read.\n",
    "    \n",
    "    "
   ]
  },
  {
   "cell_type": "code",
   "execution_count": 34,
   "metadata": {
    "collapsed": false
   },
   "outputs": [
    {
     "data": {
      "text/plain": [
       "[(19944, 20000)]"
      ]
     },
     "execution_count": 34,
     "metadata": {},
     "output_type": "execute_result"
    }
   ],
   "source": [
    "sv_indicant_reads_in_contig[1].get_blocks()"
   ]
  },
  {
   "cell_type": "code",
   "execution_count": 39,
   "metadata": {
    "collapsed": false
   },
   "outputs": [
    {
     "name": "stdout",
     "output_type": "stream",
     "text": [
      "right mode: 20000\n",
      "left mode: 20000\n"
     ]
    }
   ],
   "source": [
    "def keywithmaxval(d):\n",
    "     v=list(d.values())\n",
    "     k=list(d.keys())\n",
    "     return k[v.index(max(v))]\n",
    "\n",
    "left_block_ends = defaultdict(lambda: 0)\n",
    "right_block_ends = defaultdict(lambda: 0)\n",
    "for read in sv_indicant_reads_in_contig:\n",
    "    for l,r in read.get_blocks():\n",
    "        left_block_ends[l] += 1\n",
    "        right_block_ends[r] += 1\n",
    "\n",
    "print 'right mode:', keywithmaxval(right_block_ends)\n",
    "print 'left mode:', keywithmaxval(left_block_ends)"
   ]
  },
  {
   "cell_type": "code",
   "execution_count": 40,
   "metadata": {
    "collapsed": false
   },
   "outputs": [
    {
     "data": {
      "text/plain": [
       "defaultdict(<function <lambda> at 0x7f6f151981b8>, {19968: 1, 20139: 1, 19998: 1, 20000: 24, 20005: 1, 19509: 1, 19511: 1, 19513: 1, 19519: 1, 20033: 1, 19523: 1, 20038: 1, 20040: 1, 20042: 1, 19554: 1, 19536: 1, 19541: 1, 20056: 1, 19550: 1, 20064: 1, 19553: 1, 20066: 1, 20070: 1, 20076: 1, 20079: 2, 20080: 1, 19569: 1, 20083: 1, 19573: 1, 19576: 1, 19584: 1, 20098: 1, 20099: 1, 19564: 1, 19595: 1, 20108: 1, 20109: 1, 20333: 1, 20113: 1, 19602: 1, 19606: 1, 20120: 1, 20121: 1, 20122: 1, 19611: 1, 19612: 2, 19613: 1, 19615: 1, 19616: 1, 19568: 1, 20132: 1, 20135: 1, 19624: 1, 19627: 1, 20143: 1, 19634: 1, 19635: 1, 20148: 1, 19639: 1, 20152: 1, 20154: 2, 20155: 1, 19645: 1, 19647: 1, 20160: 1, 19650: 2, 20167: 1, 20169: 1, 20171: 1, 19660: 1, 19661: 1, 19747: 1, 19669: 1, 20191: 1, 19681: 1, 19683: 1, 20199: 1, 19692: 1, 19693: 1, 20209: 1, 19699: 1, 19700: 1, 20215: 1, 19705: 1, 19712: 1, 20239: 1, 19728: 1, 19733: 1, 19737: 1, 19738: 1, 20251: 1, 20253: 1, 20257: 1, 20259: 1, 20263: 1, 20264: 1, 20276: 1, 19766: 1, 20281: 1, 19773: 1, 19775: 1, 19778: 2, 20291: 1, 20293: 1, 20298: 1, 20299: 1, 19789: 1, 19793: 1, 20309: 1, 19800: 1, 19803: 1, 20319: 1, 19810: 2, 19813: 1, 19817: 1, 19818: 2, 20332: 1, 19821: 1, 19823: 2, 19826: 1, 19831: 1, 20344: 1, 19835: 2, 20335: 1, 20357: 1, 20364: 1, 20365: 1, 20368: 1, 19859: 1, 19869: 1, 20285: 1, 20392: 1, 20394: 1, 19884: 1, 19896: 1, 19655: 1, 19908: 1, 19910: 1, 19911: 1, 19912: 1, 19915: 1, 19918: 1, 19921: 1, 19922: 2, 19924: 1, 19926: 1, 19932: 1, 19933: 1, 19934: 1, 19935: 1, 19937: 1, 19940: 2, 19942: 1, 19944: 1, 19947: 2, 19949: 2, 19951: 1, 19952: 1, 19953: 1, 19962: 1, 19963: 1, 19967: 1})"
      ]
     },
     "execution_count": 40,
     "metadata": {},
     "output_type": "execute_result"
    }
   ],
   "source": [
    "left_block_ends"
   ]
  },
  {
   "cell_type": "code",
   "execution_count": 46,
   "metadata": {
    "collapsed": false
   },
   "outputs": [
    {
     "ename": "TypeError",
     "evalue": "'pysam.calignmentfile.AlignedSegment' object has no attribute '__getitem__'",
     "output_type": "error",
     "traceback": [
      "\u001b[1;31m---------------------------------------------------------------------------\u001b[0m",
      "\u001b[1;31mTypeError\u001b[0m                                 Traceback (most recent call last)",
      "\u001b[1;32m<ipython-input-46-75d70e814f0f>\u001b[0m in \u001b[0;36m<module>\u001b[1;34m()\u001b[0m\n\u001b[0;32m      1\u001b[0m \u001b[0mread\u001b[0m \u001b[1;33m=\u001b[0m \u001b[0msv_indicant_reads_in_contig\u001b[0m\u001b[1;33m[\u001b[0m\u001b[1;36m1\u001b[0m\u001b[1;33m]\u001b[0m\u001b[1;33m\u001b[0m\u001b[0m\n\u001b[1;32m----> 2\u001b[1;33m \u001b[0mread\u001b[0m\u001b[1;33m[\u001b[0m\u001b[1;36m0\u001b[0m\u001b[1;33m:\u001b[0m\u001b[1;36m10\u001b[0m\u001b[1;33m]\u001b[0m\u001b[1;33m\u001b[0m\u001b[0m\n\u001b[0m",
      "\u001b[1;31mTypeError\u001b[0m: 'pysam.calignmentfile.AlignedSegment' object has no attribute '__getitem__'"
     ]
    }
   ],
   "source": [
    "read = sv_indicant_reads_in_contig[1]\n",
    "read[0:10]"
   ]
  },
  {
   "cell_type": "code",
   "execution_count": 6,
   "metadata": {
    "collapsed": false
   },
   "outputs": [],
   "source": [
    "for read in sv_indicant_reads_in_contig:\n",
    "    if read.cigartuples:\n",
    "        if len(read.cigartuples) > 2:\n",
    "            myread = read"
   ]
  },
  {
   "cell_type": "code",
   "execution_count": 7,
   "metadata": {
    "collapsed": false
   },
   "outputs": [
    {
     "data": {
      "text/plain": [
       "'56M45S'"
      ]
     },
     "execution_count": 7,
     "metadata": {},
     "output_type": "execute_result"
    }
   ],
   "source": [
    "myread = sv_indicant_reads_in_contig[1]\n",
    "myread.cigarstring"
   ]
  },
  {
   "cell_type": "code",
   "execution_count": 8,
   "metadata": {
    "collapsed": false
   },
   "outputs": [
    {
     "ename": "SyntaxError",
     "evalue": "invalid syntax (<ipython-input-8-79ec0ad27aea>, line 9)",
     "output_type": "error",
     "traceback": [
      "\u001b[1;36m  File \u001b[1;32m\"<ipython-input-8-79ec0ad27aea>\"\u001b[1;36m, line \u001b[1;32m9\u001b[0m\n\u001b[1;33m    read.\u001b[0m\n\u001b[1;37m         ^\u001b[0m\n\u001b[1;31mSyntaxError\u001b[0m\u001b[1;31m:\u001b[0m invalid syntax\n"
     ]
    }
   ],
   "source": [
    "MATCH = 0\n",
    "INS = 1\n",
    "DEL = 2\n",
    "SOFT_CLIP = 4\n",
    "HARD_CLIP = 5\n",
    "CLIP = [SOFT_CLIP, HARD_CLIP]\n",
    "\n",
    "for read in sv_indicant_reads_in_contig:\n",
    "    read."
   ]
  },
  {
   "cell_type": "code",
   "execution_count": 9,
   "metadata": {
    "collapsed": false
   },
   "outputs": [
    {
     "data": {
      "text/plain": [
       "<pysam.calignmentfile.AlignedSegment at 0x7f1dcdcad350>"
      ]
     },
     "execution_count": 9,
     "metadata": {},
     "output_type": "execute_result"
    }
   ],
   "source": [
    "read"
   ]
  },
  {
   "cell_type": "code",
   "execution_count": 24,
   "metadata": {
    "collapsed": false
   },
   "outputs": [],
   "source": [
    "MATCH = 0\n",
    "INS = 1\n",
    "DEL = 2\n",
    "SOFT_CLIP = 4\n",
    "HARD_CLIP = 5\n",
    "CLIP = [SOFT_CLIP, HARD_CLIP]\n",
    "\n",
    "def cigarLengths(cigartuples):\n",
    "    alignment_length = 0\n",
    "    query_start = 0\n",
    "    query_end = 0\n",
    "    \n",
    "    is_first_op = True\n",
    "    if cigartuples is not None:\n",
    "        for op, op_length in cigartuples:\n",
    "            if op in CLIP and is_first_op:\n",
    "                query_start += op_length\n",
    "                query_end += op_length\n",
    "            elif op is MATCH:\n",
    "                query_end += op_length\n",
    "                alignment_length += op_length\n",
    "            elif op is INS:\n",
    "                query_end += op_length\n",
    "            elif op is DEL:\n",
    "                alignment_length += op_length\n",
    "            is_first_op = False\n",
    "\n",
    "    return {\n",
    "        'query_start': query_start,\n",
    "        'query_end': query_end,\n",
    "        'alignment_length': alignment_length\n",
    "    }"
   ]
  },
  {
   "cell_type": "code",
   "execution_count": 32,
   "metadata": {
    "collapsed": false
   },
   "outputs": [
    {
     "name": "stdout",
     "output_type": "stream",
     "text": [
      "None\n",
      "{'query_start': 0, 'query_end': 0, 'alignment_length': 0}\n",
      "89M12S\n",
      "{'query_start': 0, 'query_end': 89, 'alignment_length': 89}\n",
      "101M\n",
      "{'query_start': 0, 'query_end': 101, 'alignment_length': 101}\n",
      "None\n",
      "{'query_start': 0, 'query_end': 0, 'alignment_length': 0}\n",
      "None\n",
      "{'query_start': 0, 'query_end': 0, 'alignment_length': 0}\n",
      "None\n",
      "{'query_start': 0, 'query_end': 0, 'alignment_length': 0}\n",
      "None\n",
      "{'query_start': 0, 'query_end': 0, 'alignment_length': 0}\n",
      "None\n",
      "{'query_start': 0, 'query_end': 0, 'alignment_length': 0}\n",
      "None\n",
      "{'query_start': 0, 'query_end': 0, 'alignment_length': 0}\n",
      "None\n",
      "{'query_start': 0, 'query_end': 0, 'alignment_length': 0}\n",
      "None\n",
      "{'query_start': 0, 'query_end': 0, 'alignment_length': 0}\n",
      "101M\n",
      "{'query_start': 0, 'query_end': 101, 'alignment_length': 101}\n",
      "None\n",
      "{'query_start': 0, 'query_end': 0, 'alignment_length': 0}\n",
      "None\n",
      "{'query_start': 0, 'query_end': 0, 'alignment_length': 0}\n",
      "64S37M\n",
      "{'query_start': 64, 'query_end': 101, 'alignment_length': 37}\n",
      "None\n",
      "{'query_start': 0, 'query_end': 0, 'alignment_length': 0}\n",
      "None\n",
      "{'query_start': 0, 'query_end': 0, 'alignment_length': 0}\n",
      "101M\n",
      "{'query_start': 0, 'query_end': 101, 'alignment_length': 101}\n",
      "None\n",
      "{'query_start': 0, 'query_end': 0, 'alignment_length': 0}\n",
      "None\n",
      "{'query_start': 0, 'query_end': 0, 'alignment_length': 0}\n"
     ]
    }
   ],
   "source": [
    "num = 7\n",
    "for num in range(180,200):\n",
    "    print sv_indicant_reads_in_contig[num].cigarstring\n",
    "    print cigarLengths(sv_indicant_reads_in_contig[num].cigartuples)"
   ]
  },
  {
   "cell_type": "code",
   "execution_count": 18,
   "metadata": {
    "collapsed": false
   },
   "outputs": [
    {
     "data": {
      "text/plain": [
       "{'alignment_length': 56, 'query_end': 56, 'query_start': 0}"
      ]
     },
     "execution_count": 18,
     "metadata": {},
     "output_type": "execute_result"
    }
   ],
   "source": [
    "for read in sv_indicant_reads_in_contig:\n",
    "    "
   ]
  },
  {
   "cell_type": "code",
   "execution_count": 36,
   "metadata": {
    "collapsed": false
   },
   "outputs": [
    {
     "data": {
      "text/plain": [
       "[(0, 19944),\n",
       " (1, 19945),\n",
       " (2, 19946),\n",
       " (3, 19947),\n",
       " (4, 19948),\n",
       " (5, 19949),\n",
       " (6, 19950),\n",
       " (7, 19951),\n",
       " (8, 19952),\n",
       " (9, 19953),\n",
       " (10, 19954),\n",
       " (11, 19955),\n",
       " (12, 19956),\n",
       " (13, 19957),\n",
       " (14, 19958),\n",
       " (15, 19959),\n",
       " (16, 19960),\n",
       " (17, 19961),\n",
       " (18, 19962),\n",
       " (19, 19963),\n",
       " (20, 19964),\n",
       " (21, 19965),\n",
       " (22, 19966),\n",
       " (23, 19967),\n",
       " (24, 19968),\n",
       " (25, 19969),\n",
       " (26, 19970),\n",
       " (27, 19971),\n",
       " (28, 19972),\n",
       " (29, 19973),\n",
       " (30, 19974),\n",
       " (31, 19975),\n",
       " (32, 19976),\n",
       " (33, 19977),\n",
       " (34, 19978),\n",
       " (35, 19979),\n",
       " (36, 19980),\n",
       " (37, 19981),\n",
       " (38, 19982),\n",
       " (39, 19983),\n",
       " (40, 19984),\n",
       " (41, 19985),\n",
       " (42, 19986),\n",
       " (43, 19987),\n",
       " (44, 19988),\n",
       " (45, 19989),\n",
       " (46, 19990),\n",
       " (47, 19991),\n",
       " (48, 19992),\n",
       " (49, 19993),\n",
       " (50, 19994),\n",
       " (51, 19995),\n",
       " (52, 19996),\n",
       " (53, 19997),\n",
       " (54, 19998),\n",
       " (55, 19999),\n",
       " (56, None),\n",
       " (57, None),\n",
       " (58, None),\n",
       " (59, None),\n",
       " (60, None),\n",
       " (61, None),\n",
       " (62, None),\n",
       " (63, None),\n",
       " (64, None),\n",
       " (65, None),\n",
       " (66, None),\n",
       " (67, None),\n",
       " (68, None),\n",
       " (69, None),\n",
       " (70, None),\n",
       " (71, None),\n",
       " (72, None),\n",
       " (73, None),\n",
       " (74, None),\n",
       " (75, None),\n",
       " (76, None),\n",
       " (77, None),\n",
       " (78, None),\n",
       " (79, None),\n",
       " (80, None),\n",
       " (81, None),\n",
       " (82, None),\n",
       " (83, None),\n",
       " (84, None),\n",
       " (85, None),\n",
       " (86, None),\n",
       " (87, None),\n",
       " (88, None),\n",
       " (89, None),\n",
       " (90, None),\n",
       " (91, None),\n",
       " (92, None),\n",
       " (93, None),\n",
       " (94, None),\n",
       " (95, None),\n",
       " (96, None),\n",
       " (97, None),\n",
       " (98, None),\n",
       " (99, None),\n",
       " (100, None)]"
      ]
     },
     "execution_count": 36,
     "metadata": {},
     "output_type": "execute_result"
    }
   ],
   "source": [
    "sv_indicant_reads_in_contig[1].get_aligned_pairs()"
   ]
  },
  {
   "cell_type": "code",
   "execution_count": 50,
   "metadata": {
    "collapsed": true
   },
   "outputs": [],
   "source": [
    "SOFT_CLIP = 4\n",
    "HARD_CLIP = 5\n",
    "CLIP = [SOFT_CLIP, HARD_CLIP]\n",
    "\n",
    "left_clipped = defaultdict(list)\n",
    "right_clipped = defaultdict(list)\n",
    "for read in sv_indicant_reads_in_contig:\n",
    "    left_clipping = read.cigartuples[0][1] if read.cigartuples[0][0] in CLIP else 0\n",
    "    right_clipping = read.cigartuples[-1][1] if read.cigartuples[-1][0] in CLIP else 0\n",
    "    is_left_clipped = left_clipping > right_clipping\n",
    "    is_right_clipped = right_clipping > left_clipping\n",
    "    if is_left_clipped:\n",
    "        left_clipped[read.reference_start].append(read)\n",
    "    elif is_right_clipped:\n",
    "        right_clipped[read.reference_end].append(read)\n",
    "\n"
   ]
  },
  {
   "cell_type": "code",
   "execution_count": 158,
   "metadata": {
    "collapsed": false
   },
   "outputs": [
    {
     "name": "stdout",
     "output_type": "stream",
     "text": [
      "ref_ins_left_end: 20000\n",
      "ref_ins_right_end: 20000\n",
      "Contig is reverse complement\n",
      "reverse complement contig fasta: /home/wahern/projects/millstone/genome_designer/conf/../temp_data/projects/ecbcef23/contigs/901e5a0d/fasta.reverse_complement.fa\n",
      "contig_ins_left_end: 491\n"
     ]
    }
   ],
   "source": [
    "SOFT_CLIP = 4\n",
    "HARD_CLIP = 5\n",
    "CLIP = [SOFT_CLIP, HARD_CLIP]\n",
    "\n",
    "# Separate left and right clipped reads\n",
    "left_clipped = defaultdict(list)\n",
    "right_clipped = defaultdict(list)\n",
    "for read in sv_indicant_reads_in_contig:\n",
    "    left_clipping = read.cigartuples[0][1] if read.cigartuples[0][0] in CLIP else 0\n",
    "    right_clipping = read.cigartuples[-1][1] if read.cigartuples[-1][0] in CLIP else 0\n",
    "    is_left_clipped = left_clipping > right_clipping\n",
    "    is_right_clipped = right_clipping > left_clipping\n",
    "    if is_left_clipped:\n",
    "        left_clipped[read.reference_start].append(read)\n",
    "    elif is_right_clipped:\n",
    "        right_clipped[read.reference_end].append(read)\n",
    "\n",
    "# Find positions in reference of most left clipping points\n",
    "left_clipped_list_sorted = sorted(left_clipped.items(), key=lambda x:len(x[1]), reverse=True)\n",
    "highest_clip_consensus = len(left_clipped_list_sorted[0][1])\n",
    "second_highest_clip_consensus = len(left_clipped_list_sorted[1][1]) if len(left_clipped_list_sorted) > 1 else 0\n",
    "if highest_clip_consensus - second_highest_clip_consensus > 2:\n",
    "    ref_ins_right_end = left_clipped_list_sorted[0][0]\n",
    "else:\n",
    "    ref_ins_right_end = None\n",
    "\n",
    "# Same for right clipping\n",
    "right_clipped_list_sorted = sorted(right_clipped.items(), key=lambda x:len(x[1]), reverse=True)\n",
    "highest_clip_consensus = len(right_clipped_list_sorted[0][1])\n",
    "second_highest_clip_consensus = len(right_clipped_list_sorted[1][1]) if len(right_clipped_list_sorted) > 1 else 0\n",
    "if highest_clip_consensus - second_highest_clip_consensus > 2:\n",
    "    ref_ins_left_end = right_clipped_list_sorted[0][0]\n",
    "else:\n",
    "    ref_ins_left_end = None\n",
    "\n",
    "# TODO: Handle case of no endpoints found\n",
    "assert ref_ins_left_end is not None and ref_ins_right_end is not None\n",
    "print 'ref_ins_left_end:', ref_ins_left_end\n",
    "print 'ref_ins_right_end:', ref_ins_right_end\n",
    "\n",
    "\n",
    "# Grab query_alignment_sequences for alignment to contig\n",
    "\n",
    "# TODO: Handle case of same query_name reads being added to same fastq\n",
    "right_clipped_query_names = [read.query_name for read in right_clipped[ref_ins_left_end]]\n",
    "assert len(right_clipped_query_names) == len(set(right_clipped_query_names))\n",
    "\n",
    "from Bio.Seq import Seq\n",
    "from Bio.SeqRecord import SeqRecord\n",
    "from Bio.Alphabet import IUPAC\n",
    "from Bio import SeqIO\n",
    "right_clipped_query_alignment_seqrecords = []\n",
    "for read in right_clipped[ref_ins_left_end]:\n",
    "    right_clipped_query_alignment_seqrecords.append(SeqRecord(\n",
    "            Seq(read.query_alignment_sequence, IUPAC.ambiguous_dna),\n",
    "            letter_annotations={'phred_quality':read.query_alignment_qualities},\n",
    "            id=read.query_name,\n",
    "            description=''))\n",
    "\n",
    "right_clipped_query_alignment_fastq = os.path.join(read_unpacking_dir, 'right_clipped_query_alignment_seqs.fq')\n",
    "with open(right_clipped_query_alignment_fastq, 'w') as fastq_handle:\n",
    "    SeqIO.write(right_clipped_query_alignment_seqrecords, fastq_handle, 'fastq')\n",
    "\n",
    "\n",
    "input_reads_fq = right_clipped_query_alignment_fastq\n",
    "from main.models import Contig\n",
    "from main.models import Dataset\n",
    "contig = Contig.objects.get(label='ins_1kb_ins_1kb_sample_NODE_1_length_1966_cov_23.051373')\n",
    "contig_fasta = contig.dataset_set.get(type=Dataset.TYPE.REFERENCE_GENOME_FASTA).get_absolute_location()\n",
    "\n",
    "# Align clipped query alignment fastq to contig\n",
    "align_input_args = ' '.join([\n",
    "        '%s/bwa/bwa' % settings.TOOLS_DIR,\n",
    "        'mem',\n",
    "        '-t', '1', # threads\n",
    "        contig_fasta,\n",
    "        input_reads_fq,\n",
    "    ])\n",
    "\n",
    "# To skip saving the SAM file to disk directly, pipe output directly to\n",
    "# make a BAM file.\n",
    "align_input_args += ' | ' + settings.SAMTOOLS_BINARY + ' view -bS -'\n",
    "\n",
    "# Get a BAM filename\n",
    "output_bam = os.path.join(read_unpacking_dir,\n",
    "        'right_clipped_to_contig.bwa_align.bam')\n",
    "\n",
    "# Ensure contig fasta is indexed\n",
    "subprocess.call(' '.join([\n",
    "        '%s/bwa/bwa' % settings.TOOLS_DIR,\n",
    "        'index',\n",
    "        contig_fasta\n",
    "    ]),\n",
    "shell=True, executable=settings.BASH_PATH)\n",
    "\n",
    "# Run alignment\n",
    "import subprocess\n",
    "with open(output_bam, 'w') as fh:\n",
    "    subprocess.check_call(\n",
    "            align_input_args, stdout=fh,\n",
    "            shell=True, executable=settings.BASH_PATH)\n",
    "\n",
    "# # Check if reverse complement contig\n",
    "# right_clipped_qname_to_read = {}\n",
    "# for read in right_clipped[ref_ins_left_end]:\n",
    "#     right_clipped_qname_to_read[read.query_name] = read\n",
    "\n",
    "total_mapped_count = 0\n",
    "reversed_complementarity_count = 0\n",
    "sam_file = pysam.AlignmentFile(output_bam)\n",
    "for read in sam_file:\n",
    "    if not read.is_unmapped:\n",
    "        total_mapped_count += 1\n",
    "        if read.is_reverse:\n",
    "            reversed_complementarity_count += 1\n",
    "\n",
    "REVERSED_COMPLEMENTARITY_FRACTION_CUTOFF = 0.75\n",
    "if reversed_complementarity_count / total_mapped_count > REVERSED_COMPLEMENTARITY_FRACTION_CUTOFF:\n",
    "    print 'Contig is reverse complement'\n",
    "    contig.metadata['is_reverse'] = True\n",
    "\n",
    "# Write reverse complement of contig to file if is reverse\n",
    "if contig.metadata.get('is_reverse', False):\n",
    "    rc_contig_fasta = os.path.splitext(contig_fasta)[0] + '.reverse_complement.fa'\n",
    "    print 'reverse complement contig fasta:', rc_contig_fasta\n",
    "    contig_seqrecord = SeqIO.parse(contig_fasta, 'fasta').next()\n",
    "    contig_seqrecord.seq = contig_seqrecord.seq.reverse_complement()\n",
    "    SeqIO.write(contig_seqrecord, rc_contig_fasta, 'fasta')\n",
    "    \n",
    "    # Align clipped query alignment fastq to contig\n",
    "    align_input_args = ' '.join([\n",
    "            '%s/bwa/bwa' % settings.TOOLS_DIR,\n",
    "            'mem',\n",
    "            '-t', '1', # threads\n",
    "            rc_contig_fasta,\n",
    "            input_reads_fq,\n",
    "        ])\n",
    "\n",
    "    # To skip saving the SAM file to disk directly, pipe output directly to\n",
    "    # make a BAM file.\n",
    "    align_input_args += ' | ' + settings.SAMTOOLS_BINARY + ' view -bS -'\n",
    "\n",
    "    # Get a BAM filename\n",
    "    output_bam = os.path.join(read_unpacking_dir,\n",
    "            'right_clipped_to_contig.bwa_align.bam')\n",
    "\n",
    "    # Ensure contig fasta is indexed\n",
    "    subprocess.call(' '.join([\n",
    "            '%s/bwa/bwa' % settings.TOOLS_DIR,\n",
    "            'index',\n",
    "            rc_contig_fasta\n",
    "        ]),\n",
    "    shell=True, executable=settings.BASH_PATH)\n",
    "\n",
    "    # Run alignment\n",
    "    import subprocess\n",
    "    with open(output_bam, 'w') as fh:\n",
    "        subprocess.check_call(\n",
    "                align_input_args, stdout=fh,\n",
    "                shell=True, executable=settings.BASH_PATH)\n",
    "\n",
    "\n",
    "alignment_ref_end_positions = defaultdict(list)\n",
    "sam_file = pysam.AlignmentFile(output_bam)\n",
    "for read in sam_file:\n",
    "    # Change to reference_start for left_clipped\n",
    "    alignment_ref_end_positions[read.reference_end].append(read)\n",
    "#     print 'read.reference_start:', read.reference_start\n",
    "#     print 'read.reference_end:', read.reference_end\n",
    "\n",
    "alignment_ref_end_positions_sorted = sorted(alignment_ref_end_positions.items(), key=lambda x:len(x[1]), reverse=True)\n",
    "highest_end_consensus = len(alignment_ref_end_positions_sorted[0][1])\n",
    "second_highest_end_consensus = len(alignment_ref_end_positions_sorted[1][1]) if len(alignment_ref_end_positions_sorted) > 1 else 0\n",
    "if highest_end_consensus - second_highest_end_consensus > 2:\n",
    "    contig_ins_left_end = alignment_ref_end_positions_sorted[0][0]\n",
    "else:\n",
    "    contig_ins_left_end = None\n",
    "\n",
    "print 'contig_ins_left_end:', contig_ins_left_end\n"
   ]
  },
  {
   "cell_type": "code",
   "execution_count": 156,
   "metadata": {
    "collapsed": false
   },
   "outputs": [
    {
     "data": {
      "text/plain": [
       "{u'coverage': 23.051373, u'timestamp': u'2015-07-15 11:46:25.414577'}"
      ]
     },
     "execution_count": 156,
     "metadata": {},
     "output_type": "execute_result"
    }
   ],
   "source": [
    "# sv_indicant_reads_in_contig[1].mapping_quality\n",
    "# print right_clipped_query_alignment_seqs[0]\n",
    "# right_clipped_query_alignment_fastq\n",
    "# myread.mapping_quality\n",
    "# 10**(-0.1*12)\n",
    "# -10*np.log10(0.1)\n",
    "# alignment_ref_end_positions.items()\n",
    "# second_highest_end_consensus\n",
    "# right_clipped[20000][2].reference_start\n",
    "# os.path.splitext(contig_fasta)\n",
    "contig.metadata"
   ]
  },
  {
   "cell_type": "code",
   "execution_count": 66,
   "metadata": {
    "collapsed": true
   },
   "outputs": [],
   "source": [
    "from Bio import SeqIO"
   ]
  },
  {
   "cell_type": "code",
   "execution_count": 78,
   "metadata": {
    "collapsed": false
   },
   "outputs": [
    {
     "name": "stdout",
     "output_type": "stream",
     "text": [
      "ID: YP_025292.1\n",
      "Name: HokC\n",
      "Description: toxic membrane protein, small\n",
      "Number of features: 0\n",
      "Per letter annotation for: phred_quality\n",
      "Seq('ATGG', IUPACAmbiguousDNA())\n"
     ]
    }
   ],
   "source": [
    "#seqrec = SeqIO.SeqRecord('AGAGT', 'phred_quality'=[24,24,21,32,38])\n",
    "\n",
    "from Bio.Seq import Seq\n",
    "from Bio.SeqRecord import SeqRecord\n",
    "from Bio.Alphabet import IUPAC\n",
    "record = SeqRecord(Seq(\"ATGG\",\n",
    "                   IUPAC.ambiguous_dna),\n",
    "                   letter_annotations={'phred_quality':[32,8,23,25]},\n",
    "                   id=\"YP_025292.1\", name=\"HokC\",\n",
    "                   description=\"toxic membrane protein, small\")\n",
    "print record"
   ]
  },
  {
   "cell_type": "code",
   "execution_count": null,
   "metadata": {
    "collapsed": true
   },
   "outputs": [],
   "source": []
  }
 ],
 "metadata": {
  "kernelspec": {
   "display_name": "Python 2",
   "language": "python",
   "name": "python2"
  },
  "language_info": {
   "codemirror_mode": {
    "name": "ipython",
    "version": 2
   },
   "file_extension": ".py",
   "mimetype": "text/x-python",
   "name": "python",
   "nbconvert_exporter": "python",
   "pygments_lexer": "ipython2",
   "version": "2.7.6"
  }
 },
 "nbformat": 4,
 "nbformat_minor": 0
}
