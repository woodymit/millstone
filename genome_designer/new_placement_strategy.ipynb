{
 "cells": [
  {
   "cell_type": "code",
   "execution_count": 18,
   "metadata": {
    "collapsed": false
   },
   "outputs": [
    {
     "data": {
      "text/plain": [
       "'/home/wahern/projects/millstone/genome_designer'"
      ]
     },
     "execution_count": 18,
     "metadata": {},
     "output_type": "execute_result"
    }
   ],
   "source": [
    "from django.core.management import setup_environ\n",
    "import settings\n",
    "# from django.conf import settings\n",
    "setup_environ(settings)"
   ]
  },
  {
   "cell_type": "code",
   "execution_count": 3,
   "metadata": {
    "collapsed": true
   },
   "outputs": [],
   "source": [
    "# import os\n",
    "# import tempfile\n",
    "\n",
    "# from Bio import SeqIO\n",
    "# from django.conf import settings\n",
    "# import pysam\n",
    "\n",
    "# from genome_finish.millstone_de_novo_fns import get_insertion_location\n",
    "# from genome_finish.millstone_de_novo_fns import get_local_contig_placement\n",
    "# from genome_finish.millstone_de_novo_fns import make_sliced_fasta\n",
    "# from main.exceptions import ValidationException\n",
    "# from main.model_utils import get_dataset_with_type\n",
    "# from main.models import Dataset\n",
    "# from main.models import AlignmentGroup\n",
    "# from main.models import Chromosome\n",
    "# from main.models import ExperimentSample\n",
    "# from main.models import ExperimentSampleToAlignment\n",
    "# from main.models import Variant\n",
    "# from main.models import VariantAlternate\n",
    "# from main.models import VariantSet\n",
    "# from main.models import VariantToVariantSet\n",
    "# from pipeline.read_alignment import align_with_bwa_mem\n",
    "# from utils import convert_seqrecord_to_fastq\n",
    "# from utils import generate_safe_filename_prefix_from_label\n",
    "# from utils.import_util import add_dataset_to_entity\n",
    "# from utils.import_util import copy_and_add_dataset_source\n",
    "# from utils.reference_genome_maker_util import generate_new_reference_genome\n",
    "\n",
    "\n",
    "from collections import defaultdict\n",
    "import os\n",
    "import re\n",
    "import subprocess\n",
    "\n",
    "from Bio import SeqIO\n",
    "from Bio.Alphabet import IUPAC\n",
    "from Bio.Seq import Seq\n",
    "from Bio.SeqRecord import SeqRecord\n",
    "from django.conf import settings\n",
    "import pysam\n",
    "\n",
    "from main.exceptions import ValidationException\n",
    "from main.model_utils import get_dataset_with_type\n",
    "from main.models import Chromosome\n",
    "from main.models import Contig\n",
    "from main.models import Dataset\n",
    "from main.models import ExperimentSampleToAlignment\n",
    "from main.models import Variant\n",
    "from main.models import VariantAlternate\n",
    "from main.models import VariantSet\n",
    "from main.models import VariantToVariantSet\n",
    "from utils.reference_genome_maker_util import generate_new_reference_genome\n",
    "\n",
    "ENDPOINT_MODE_DIFFERENCE_CUTOFF = 2\n",
    "\n",
    "\n",
    "def place_contig(contig, new_reference_genome_label):\n",
    "    # Find the insertion position in reference and the end positions of the\n",
    "    # insertion cassette in the contig\n",
    "    insertion_placement_positions = get_insertion_placement_positions(contig)\n",
    "\n",
    "    # Propogate error message upwards\n",
    "    if 'error_string' in insertion_placement_positions:\n",
    "        return insertion_placement_positions\n",
    "\n",
    "    new_reference_genome_params = {\n",
    "        'label': new_reference_genome_label\n",
    "    }\n",
    "\n",
    "    # Generate a new version of the reference genome with the\n",
    "    # cassette incorporated\n",
    "    is_reverse = contig.metadata.get('is_reverse', False)\n",
    "    return place_cassette(\n",
    "            contig,\n",
    "            insertion_placement_positions,\n",
    "            new_reference_genome_params,\n",
    "            is_reverse)\n",
    "\n",
    "\n",
    "def place_cassette(contig, insertion_placement_positions,\n",
    "                   new_reference_genome_params, is_reverse=None):\n",
    "\n",
    "    # Validate param dictionaries\n",
    "    try:\n",
    "        for key in ['reference', 'contig']:\n",
    "            assert key in insertion_placement_positions\n",
    "            for inner_key in ['left', 'right']:\n",
    "                assert inner_key in insertion_placement_positions[key]\n",
    "        assert 'label' in new_reference_genome_params\n",
    "    except Exception as e:\n",
    "        raise ValidationException(e)\n",
    "\n",
    "    reference_genome = contig.parent_reference_genome\n",
    "    # Get chromosome of reference genome to be recieving cassette\n",
    "    # insertion_chromosome = Chromosome.objects.get(\n",
    "    #     reference_genome=reference_genome,\n",
    "    #     seqrecord_id=placement_position_params['ref_chromosome_seqrecord_id'])\n",
    "    # TODO: UNHACK\n",
    "    insertion_chromosome = Chromosome.objects.get(\n",
    "            reference_genome=reference_genome)\n",
    "\n",
    "    if insertion_placement_positions['reference']['left'] == insertion_placement_positions['reference']['right']:\n",
    "        # Create variant to house insertion\n",
    "        insertion_variant = Variant.objects.create(\n",
    "                reference_genome=reference_genome,\n",
    "                chromosome=insertion_chromosome,\n",
    "                type=Variant.TYPE.INSERTION,\n",
    "                position=insertion_placement_positions['reference']['left'] + 1,\n",
    "                ref_value='')\n",
    "    else:\n",
    "        raise Exception('TODO: HANDLE INSERTION WITH DELETION')\n",
    "\n",
    "    # Get Seqrecord\n",
    "    contig_fasta = get_dataset_with_type(\n",
    "            contig,\n",
    "            Dataset.TYPE.REFERENCE_GENOME_FASTA).get_absolute_location()\n",
    "    with open(contig_fasta) as fh:\n",
    "            contig_seqrecord = SeqIO.parse(fh, 'fasta').next()\n",
    "\n",
    "    # Determine whether contig is reverse complement relative to reference\n",
    "    if is_reverse is None:\n",
    "        is_reverse = contig.metadata.get('is_reverse', False)\n",
    "\n",
    "    # Extract cassette sequence from contig\n",
    "    if is_reverse:\n",
    "        cassette_sequence = str(contig_seqrecord.seq.reverse_complement()[\n",
    "            insertion_placement_positions['contig']['left']:\n",
    "            insertion_placement_positions['contig']['right']])\n",
    "    else:\n",
    "        cassette_sequence = str(contig_seqrecord.seq[\n",
    "                insertion_placement_positions['contig']['left']:\n",
    "                insertion_placement_positions['contig']['right']])\n",
    "\n",
    "    # Create the variant alternate for the cassette sequence\n",
    "    insertion_variant.variantalternate_set.add(\n",
    "            VariantAlternate.objects.create(\n",
    "                    variant=insertion_variant,\n",
    "                    alt_value=cassette_sequence))\n",
    "\n",
    "    # House insertion variant in variant set to be applied to the ref\n",
    "    insertion_variant_set = VariantSet.objects.create(\n",
    "            reference_genome=reference_genome,\n",
    "            label='insertion_variant_set')\n",
    "\n",
    "    VariantToVariantSet.objects.create(\n",
    "            variant=insertion_variant,\n",
    "            variant_set=insertion_variant_set)\n",
    "\n",
    "    return generate_new_reference_genome(\n",
    "            insertion_variant_set,\n",
    "            new_reference_genome_params)\n",
    "\n",
    "\n",
    "def get_insertion_placement_positions(contig):\n",
    "\n",
    "    read_unpacking_dir = contig.get_model_data_dir()\n",
    "    if not os.path.exists(read_unpacking_dir):\n",
    "        os.mkdir(read_unpacking_dir)\n",
    "\n",
    "    contig_reads = extract_contig_reads(contig, read_unpacking_dir, 'clipped')\n",
    "\n",
    "#     contig_reads = extract_adjacent_clipped_reads(contig, read_unpacking_dir, 'clipped')\n",
    "    if len(contig_reads) == 0:\n",
    "        return {'error_string':\n",
    "                'No clipped reads were assembled into the contig'}\n",
    "\n",
    "    extracted_clipped_read_dicts = extract_left_and_right_clipped_read_dicts(\n",
    "            contig_reads)\n",
    "    left_clipped = extracted_clipped_read_dicts['left_clipped']\n",
    "    right_clipped = extracted_clipped_read_dicts['right_clipped']\n",
    "\n",
    "    ref_insertion_endpoints = find_ref_insertion_endpoints(\n",
    "            left_clipped, right_clipped)\n",
    "\n",
    "    # Handle case of no endpoints found\n",
    "    if (ref_insertion_endpoints['left'] is None and\n",
    "            ref_insertion_endpoints['right'] is None):\n",
    "        return {'error_string': ('Could not find left or right reference ' +\n",
    "                'insertion endpoints using ' + str(len(contig_reads)) +\n",
    "                ' clipped reads')}\n",
    "    elif ref_insertion_endpoints['left'] is None:\n",
    "        return {'error_string': ('Could not find left reference ' +\n",
    "                'insertion endpoint using ' + str(len(contig_reads)) +\n",
    "                ' clipped reads')}\n",
    "    elif ref_insertion_endpoints['right'] is None:\n",
    "        return {'error_string': ('Could not find right reference ' +\n",
    "                'insertion endpoint using ' + str(len(contig_reads)) +\n",
    "                ' clipped reads')}\n",
    "\n",
    "    left_clipped_same_end = left_clipped[ref_insertion_endpoints['right']]\n",
    "    right_clipped_same_end = right_clipped[ref_insertion_endpoints['left']]\n",
    "\n",
    "    contig_insertion_endpoints = find_contig_insertion_endpoints(\n",
    "            contig, read_unpacking_dir, left_clipped_same_end,\n",
    "            right_clipped_same_end)\n",
    "\n",
    "    # Propogate error upwards\n",
    "    if 'error_string' in contig_insertion_endpoints:\n",
    "        return contig_insertion_endpoints\n",
    "\n",
    "    return {\n",
    "            'reference': ref_insertion_endpoints,\n",
    "            'contig': contig_insertion_endpoints\n",
    "    }\n",
    "\n",
    "\n",
    "# def old_get_insertion_placement_positions(contig):\n",
    "\n",
    "#     read_unpacking_dir = contig.get_model_data_dir()\n",
    "#     if not os.path.exists(read_unpacking_dir):\n",
    "#         os.mkdir(read_unpacking_dir)\n",
    "\n",
    "#     contig_reads = extract_contig_reads(contig, read_unpacking_dir, 'clipped')\n",
    "#     if len(contig_reads) == 0:\n",
    "#         return {'error_string':\n",
    "#                 'No clipped reads were assembled into the contig'}\n",
    "\n",
    "#     extracted_clipped_read_dicts = extract_left_and_right_clipped_read_dicts(\n",
    "#             contig_reads)\n",
    "#     left_clipped = extracted_clipped_read_dicts['left_clipped']\n",
    "#     right_clipped = extracted_clipped_read_dicts['right_clipped']\n",
    "\n",
    "#     ref_insertion_endpoints = find_ref_insertion_endpoints(\n",
    "#             left_clipped, right_clipped)\n",
    "\n",
    "#     # Handle case of no endpoints found\n",
    "#     if (ref_insertion_endpoints['left'] is None and\n",
    "#             ref_insertion_endpoints['right'] is None):\n",
    "#         return {'error_string': ('Could not find left or right reference ' +\n",
    "#                 'insertion endpoints using ' + str(len(contig_reads)) +\n",
    "#                 ' clipped reads')}\n",
    "#     elif ref_insertion_endpoints['left'] is None:\n",
    "#         return {'error_string': ('Could not find left reference ' +\n",
    "#                 'insertion endpoint using ' + str(len(contig_reads)) +\n",
    "#                 ' clipped reads')}\n",
    "#     elif ref_insertion_endpoints['right'] is None:\n",
    "#         return {'error_string': ('Could not find right reference ' +\n",
    "#                 'insertion endpoint using ' + str(len(contig_reads)) +\n",
    "#                 ' clipped reads')}\n",
    "\n",
    "#     left_clipped_same_end = left_clipped[ref_insertion_endpoints['right']]\n",
    "#     right_clipped_same_end = right_clipped[ref_insertion_endpoints['left']]\n",
    "\n",
    "#     contig_insertion_endpoints = find_contig_insertion_endpoints(\n",
    "#             contig, read_unpacking_dir, left_clipped_same_end,\n",
    "#             right_clipped_same_end)\n",
    "\n",
    "#     # Propogate error upwards\n",
    "#     if 'error_string' in contig_insertion_endpoints:\n",
    "#         return contig_insertion_endpoints\n",
    "\n",
    "#     return {\n",
    "#             'reference': ref_insertion_endpoints,\n",
    "#             'contig': contig_insertion_endpoints\n",
    "#     }\n",
    "\n",
    "\n",
    "def extract_contig_reads(contig, read_unpacking_dir, read_category='all'):\n",
    "\n",
    "    READ_CATEGORY_TO_FILENAME = {\n",
    "        'all': 'bwa_align.SV_indicants_with_pairs.bam',\n",
    "        'without_mates': 'bwa_align.SV_indicants_no_dups.bam',\n",
    "        'clipped': 'bwa_align.clipped.bam',\n",
    "        'split': 'bwa_align.split.bam',\n",
    "        'unmapped': 'bwa_align.unmapped.bam'\n",
    "    }\n",
    "    assert read_category in READ_CATEGORY_TO_FILENAME\n",
    "\n",
    "    extract_contig_reads_executable = os.path.join(\n",
    "            settings.TOOLS_DIR,\n",
    "            'velvet/contrib/extractContigReads/extractContigReads.pl')\n",
    "\n",
    "    assembly_dir = contig.metadata['assembly_dir']\n",
    "\n",
    "    contig_node_number = contig.metadata['node_number']\n",
    "    cmd = [extract_contig_reads_executable, str(contig_node_number),\n",
    "           assembly_dir]\n",
    "    cmd = ' '.join(cmd)\n",
    "\n",
    "    contig_reads_fasta = os.path.join(\n",
    "            contig.get_model_data_dir(),\n",
    "            'extracted_reads.fa')\n",
    "#     if not os.path.exists(contig_reads_fasta):\n",
    "    with open(contig_reads_fasta, 'w') as fh:\n",
    "        subprocess.call(cmd, shell=True, stdout=fh)\n",
    "\n",
    "    p1 = re.compile('>(\\S+)/(\\d)')\n",
    "    contig_reads = defaultdict(list)\n",
    "    with open(contig_reads_fasta) as fh:\n",
    "        for line in fh:\n",
    "            m1 = p1.match(line)\n",
    "            if m1:\n",
    "                read_id = m1.group(1)\n",
    "                read_number = int(m1.group(2))\n",
    "                contig_reads[read_id].append(read_number)\n",
    "\n",
    "    sv_indicant_reads_path = os.path.join(\n",
    "            contig.metadata['assembly_dir'],\n",
    "            '..',\n",
    "            READ_CATEGORY_TO_FILENAME[read_category])\n",
    "\n",
    "    sam_file = pysam.AlignmentFile(sv_indicant_reads_path)\n",
    "    sv_indicant_reads_in_contig = []\n",
    "    for read in sam_file:\n",
    "        if read.is_read1:\n",
    "            read_number = 1\n",
    "        elif read.is_read2:\n",
    "            read_number = 2\n",
    "        else:\n",
    "            raise Exception('Read is neither read1 nor read2')\n",
    "\n",
    "        contig_read_numbers = contig_reads.get(read.query_name, [])\n",
    "        if read_number in contig_read_numbers:\n",
    "            sv_indicant_reads_in_contig.append(read)\n",
    "\n",
    "    # # DEBUG:\n",
    "    # from genome_finish.assembly import add_bam_track\n",
    "    # extracted_reads_bam_file = os.path.join(\n",
    "    #         contig.get_model_data_dir(), read_category + '.bam')\n",
    "    # extracted_reads_alignment_file = pysam.AlignmentFile(\n",
    "    #     extracted_reads_bam_file, \"wb\", template=sam_file)\n",
    "\n",
    "    # for read in sv_indicant_reads_in_contig:\n",
    "    #     extracted_reads_alignment_file.write(read)\n",
    "    # extracted_reads_alignment_file.close()\n",
    "\n",
    "    # label = ('Contig_' + str(contig.metadata['node_number']) + '_length_' +\n",
    "    #         str(contig.num_bases) + '_' + str(read_category))\n",
    "    # add_bam_track(\n",
    "    #         contig.parent_reference_genome, extracted_reads_bam_file, label)\n",
    "\n",
    "    return sv_indicant_reads_in_contig\n",
    "\n",
    "\n",
    "def extract_left_and_right_clipped_read_dicts(sv_indicant_reads_in_contig):\n",
    "    SOFT_CLIP = 4\n",
    "    HARD_CLIP = 5\n",
    "    CLIP = [SOFT_CLIP, HARD_CLIP]\n",
    "\n",
    "    # Separate left and right clipped reads\n",
    "    left_clipped = defaultdict(list)\n",
    "    right_clipped = defaultdict(list)\n",
    "    for read in sv_indicant_reads_in_contig:\n",
    "        left_clipping = read.cigartuples[0][1] if read.cigartuples[0][0] in CLIP else 0\n",
    "        right_clipping = read.cigartuples[-1][1] if read.cigartuples[-1][0] in CLIP else 0\n",
    "        is_left_clipped = left_clipping > right_clipping\n",
    "        is_right_clipped = right_clipping > left_clipping\n",
    "        if is_left_clipped:\n",
    "            left_clipped[read.reference_start].append(read)\n",
    "        elif is_right_clipped:\n",
    "            right_clipped[read.reference_end].append(read)\n",
    "\n",
    "    return {\n",
    "        'left_clipped': left_clipped,\n",
    "        'right_clipped': right_clipped\n",
    "    }\n",
    "\n",
    "\n",
    "def find_ref_insertion_endpoints(left_clipped, right_clipped):\n",
    "    \"\"\" left_clipped and right_clipped are dictionaries with lists of\n",
    "    reads as values and the reference start and end of the clipped alignment\n",
    "    as keys respectively\n",
    "    \"\"\"\n",
    "    # Find positions in reference of most left clipping points\n",
    "    left_clipped_list_sorted = sorted(\n",
    "            left_clipped.items(), key=lambda x: len(x[1]), reverse=True)\n",
    "\n",
    "    highest_clip_consensus = (len(left_clipped_list_sorted[0][1])\n",
    "            if len(left_clipped_list_sorted) > 0 else 0)\n",
    "    second_highest_clip_consensus = (len(left_clipped_list_sorted[1][1])\n",
    "            if len(left_clipped_list_sorted) > 1 else 0)\n",
    "\n",
    "    if (highest_clip_consensus - second_highest_clip_consensus\n",
    "            > ENDPOINT_MODE_DIFFERENCE_CUTOFF):\n",
    "        ref_ins_right_end = left_clipped_list_sorted[0][0]\n",
    "    else:\n",
    "        ref_ins_right_end = None\n",
    "\n",
    "\n",
    "    # Same for right clipping\n",
    "    right_clipped_list_sorted = sorted(\n",
    "            right_clipped.items(), key=lambda x: len(x[1]), reverse=True)\n",
    "\n",
    "    highest_clip_consensus = (len(right_clipped_list_sorted[0][1])\n",
    "            if len(right_clipped_list_sorted) > 0 else 0)\n",
    "    second_highest_clip_consensus = (len(right_clipped_list_sorted[1][1])\n",
    "            if len(right_clipped_list_sorted) > 1 else 0)\n",
    "\n",
    "    if (highest_clip_consensus - second_highest_clip_consensus\n",
    "            > ENDPOINT_MODE_DIFFERENCE_CUTOFF):\n",
    "        ref_ins_left_end = right_clipped_list_sorted[0][0]\n",
    "    else:\n",
    "        ref_ins_left_end = None\n",
    "\n",
    "    return {\n",
    "        'left': ref_ins_left_end,\n",
    "        'right': ref_ins_right_end\n",
    "    }\n",
    "\n",
    "\n",
    "def write_read_query_alignments_to_fastq(reads, fastq_path):\n",
    "    \"\"\"Writes the aligned portion of each read into a fastq\n",
    "    \"\"\"\n",
    "\n",
    "    query_alignment_seqrecords = []\n",
    "    for read in reads:\n",
    "        query_alignment_seqrecords.append(SeqRecord(\n",
    "                Seq(read.query_alignment_sequence, IUPAC.ambiguous_dna),\n",
    "                letter_annotations={'phred_quality':read.query_alignment_qualities},\n",
    "                id=read.query_name,\n",
    "                description=''))\n",
    "\n",
    "    with open(fastq_path, 'w') as fastq_handle:\n",
    "        SeqIO.write(query_alignment_seqrecords, fastq_handle, 'fastq')\n",
    "\n",
    "\n",
    "def simple_align_with_bwa_mem(reads_fq, reference_fasta, output_bam_path):\n",
    "\n",
    "    # Ensure reference fasta is indexed\n",
    "    subprocess.call(' '.join([\n",
    "            '%s/bwa/bwa' % settings.TOOLS_DIR,\n",
    "            'index',\n",
    "            reference_fasta\n",
    "            ]),\n",
    "            shell=True, executable=settings.BASH_PATH)\n",
    "\n",
    "    # Align clipped query alignment fastq to contig\n",
    "    align_input_args = ' '.join([\n",
    "            '%s/bwa/bwa' % settings.TOOLS_DIR,\n",
    "            'mem',\n",
    "            '-t', '1', # threads\n",
    "            reference_fasta,\n",
    "            reads_fq])\n",
    "\n",
    "    # To skip saving the SAM file to disk directly, pipe output directly to\n",
    "    # make a BAM file.\n",
    "    align_input_args += ' | ' + settings.SAMTOOLS_BINARY + ' view -bS -'\n",
    "\n",
    "    # Run alignment\n",
    "    with open(output_bam_path, 'w') as fh:\n",
    "        subprocess.check_call(\n",
    "                align_input_args, stdout=fh,\n",
    "                shell=True, executable=settings.BASH_PATH)\n",
    "\n",
    "\n",
    "def get_reads_with_mode_attribute(clipped_alignment_bam, get_attr_function,\n",
    "                                  mode_difference_cutoff=ENDPOINT_MODE_DIFFERENCE_CUTOFF):\n",
    "    alignment_ref_clip_positions = defaultdict(list)\n",
    "    sam_file = pysam.AlignmentFile(clipped_alignment_bam)\n",
    "    for read in sam_file:\n",
    "        # Change to reference_start for left_clipped\n",
    "        alignment_ref_clip_positions[get_attr_function(read)].append(read)\n",
    "        # alignment_ref_end_positions[read.reference_end].append(read)\n",
    "\n",
    "    alignment_ref_clip_positions_sorted = sorted(alignment_ref_clip_positions.items(), key=lambda x:len(x[1]), reverse=True)\n",
    "    highest_consensus = len(alignment_ref_clip_positions_sorted[0][1])\n",
    "    second_highest_consensus = len(alignment_ref_clip_positions_sorted[1][1]) if len(alignment_ref_clip_positions_sorted) > 1 else 0\n",
    "    if highest_consensus - second_highest_consensus > mode_difference_cutoff:\n",
    "        endpoint = alignment_ref_clip_positions_sorted[0][0]\n",
    "    else:\n",
    "        endpoint = None\n",
    "\n",
    "    return endpoint\n",
    "\n",
    "\n",
    "def find_contig_insertion_endpoints(contig, read_unpacking_dir, left_clipped_same_end, right_clipped_same_end):\n",
    "    \"\"\" left_clipped_same_end/right_clipped_same_end are lists of\n",
    "    left and right clipped reads all with the same left/right\n",
    "    alignment endpoint, corresponding to the reference insertion\n",
    "    right/left endpoint\n",
    "    \"\"\"\n",
    "    # TODO: Handle case of same query_name reads being added to same fastq\n",
    "    right_clipped_query_names = [read.query_name for read in right_clipped_same_end]\n",
    "    assert len(right_clipped_query_names) == len(set(right_clipped_query_names))\n",
    "\n",
    "    # Write left and right clipped query alignment sequences to fastq\n",
    "    right_clipped_query_alignment_fq = os.path.join(\n",
    "            read_unpacking_dir, 'right_clipped_query_alignment_seqs.fq')\n",
    "    write_read_query_alignments_to_fastq(right_clipped_same_end,\n",
    "                                         right_clipped_query_alignment_fq)\n",
    "    left_clipped_query_alignment_fq = os.path.join(\n",
    "            read_unpacking_dir, 'left_clipped_query_alignment_seqs.fq')\n",
    "    write_read_query_alignments_to_fastq(left_clipped_same_end,\n",
    "                                         left_clipped_query_alignment_fq)\n",
    "\n",
    "    # Get BAM filenames for right_clipped and left_clipped alignments\n",
    "    right_clipped_to_contig_bam = os.path.join(read_unpacking_dir,\n",
    "            'right_clipped_to_contig.bwa_align.bam')\n",
    "    left_clipped_to_contig_bam = os.path.join(read_unpacking_dir,\n",
    "            'left_clipped_to_contig.bwa_align.bam')\n",
    "\n",
    "\n",
    "    # Only perform alignment of right_clipped to contig\n",
    "    contig_fasta = contig.dataset_set.get(\n",
    "            type=Dataset.TYPE.REFERENCE_GENOME_FASTA).get_absolute_location()\n",
    "    simple_align_with_bwa_mem(\n",
    "            right_clipped_query_alignment_fq, contig_fasta,\n",
    "            right_clipped_to_contig_bam)\n",
    "\n",
    "    # Check if contig is reverse complement\n",
    "    total_mapped_count = 0\n",
    "    reversed_complementarity_count = 0\n",
    "    sam_file = pysam.AlignmentFile(right_clipped_to_contig_bam)\n",
    "    for read in sam_file:\n",
    "        if not read.is_unmapped:\n",
    "            total_mapped_count += 1\n",
    "            if read.is_reverse:\n",
    "                reversed_complementarity_count += 1\n",
    "\n",
    "    if total_mapped_count == 0:\n",
    "        return {'error_string':\n",
    "                'Could not find sufficient homology to reference in contig'}\n",
    "    REVERSED_COMPLEMENTARITY_FRACTION_CUTOFF = 0.75\n",
    "    if reversed_complementarity_count / total_mapped_count > REVERSED_COMPLEMENTARITY_FRACTION_CUTOFF:\n",
    "        contig.metadata['is_reverse'] = True\n",
    "        contig.save()\n",
    "\n",
    "    # Write reverse complement of contig to file if is reverse\n",
    "    if contig.metadata.get('is_reverse', False):\n",
    "        rc_contig_fasta = os.path.splitext(contig_fasta)[0] + '.reverse_complement.fa'\n",
    "        contig_seqrecord = SeqIO.parse(contig_fasta, 'fasta').next()\n",
    "        contig_seqrecord.seq = contig_seqrecord.seq.reverse_complement()\n",
    "        SeqIO.write(contig_seqrecord, rc_contig_fasta, 'fasta')\n",
    "\n",
    "        # Redo right_clipped alignment to reverse complement of contig\n",
    "        simple_align_with_bwa_mem(\n",
    "                right_clipped_query_alignment_fq, rc_contig_fasta,\n",
    "                right_clipped_to_contig_bam)\n",
    "\n",
    "        # Perform left_clipped alignmnet to reverse complement of contig\n",
    "        simple_align_with_bwa_mem(\n",
    "                left_clipped_query_alignment_fq, rc_contig_fasta,\n",
    "                left_clipped_to_contig_bam)\n",
    "    else:\n",
    "        # Perform left_clipped alignmnet to contig\n",
    "        simple_align_with_bwa_mem(\n",
    "                left_clipped_query_alignment_fq, contig_fasta,\n",
    "                left_clipped_to_contig_bam)\n",
    "\n",
    "    # Find contig endpoints\n",
    "    contig_ins_left_end = get_reads_with_mode_attribute(right_clipped_to_contig_bam, lambda r:r.reference_end)\n",
    "    contig_ins_right_end = get_reads_with_mode_attribute(left_clipped_to_contig_bam, lambda r:r.reference_start)\n",
    "\n",
    "    return {\n",
    "        'left': contig_ins_left_end,\n",
    "        'right': contig_ins_right_end\n",
    "    }\n"
   ]
  },
  {
   "cell_type": "code",
   "execution_count": 8,
   "metadata": {
    "collapsed": false
   },
   "outputs": [
    {
     "data": {
      "text/plain": [
       "{'error_string': 'Could not find sufficient homology to reference in contig'}"
      ]
     },
     "execution_count": 8,
     "metadata": {},
     "output_type": "execute_result"
    }
   ],
   "source": [
    "from main.models import Contig\n",
    "\n",
    "contig = Contig.objects.get(label='mg1655_lib1_rec07_NODE_25_length_3591_cov_144.856583')\n",
    "get_insertion_placement_positions(contig)"
   ]
  },
  {
   "cell_type": "code",
   "execution_count": 11,
   "metadata": {
    "collapsed": true
   },
   "outputs": [],
   "source": [
    "contig = Contig.objects.get(label='mg1655_lib1_rec07_NODE_25_length_3591_cov_144.856583')\n",
    "read_unpacking_dir = contig.get_model_data_dir()\n",
    "if not os.path.exists(read_unpacking_dir):\n",
    "    os.mkdir(read_unpacking_dir)\n",
    "\n",
    "contig_reads = extract_contig_reads(contig, read_unpacking_dir, 'all')\n",
    "endpoints = []\n",
    "for read in contig_reads:\n",
    "    if not read.is_unmapped:\n",
    "        endpoints.append(read.reference_start)\n",
    "        endpoints.append(read.reference_end)\n",
    "\n",
    "\n",
    "\n",
    "# if len(contig_reads) == 0:\n",
    "#     return {'error_string':\n",
    "#             'No clipped reads were assembled into the contig'}\n",
    "\n",
    "# extracted_clipped_read_dicts = extract_left_and_right_clipped_read_dicts(\n",
    "#         contig_reads)\n",
    "# left_clipped = extracted_clipped_read_dicts['left_clipped']\n",
    "# right_clipped = extracted_clipped_read_dicts['right_clipped']\n",
    "\n",
    "# ref_insertion_endpoints = find_ref_insertion_endpoints(\n",
    "#         left_clipped, right_clipped)\n",
    "\n",
    "# # Handle case of no endpoints found\n",
    "# if (ref_insertion_endpoints['left'] is None and\n",
    "#         ref_insertion_endpoints['right'] is None):\n",
    "#     return {'error_string': ('Could not find left or right reference ' +\n",
    "#             'insertion endpoints using ' + str(len(contig_reads)) +\n",
    "#             ' clipped reads')}\n",
    "# elif ref_insertion_endpoints['left'] is None:\n",
    "#     return {'error_string': ('Could not find left reference ' +\n",
    "#             'insertion endpoint using ' + str(len(contig_reads)) +\n",
    "#             ' clipped reads')}\n",
    "# elif ref_insertion_endpoints['right'] is None:\n",
    "#     return {'error_string': ('Could not find right reference ' +\n",
    "#             'insertion endpoint using ' + str(len(contig_reads)) +\n",
    "#             ' clipped reads')}\n",
    "\n",
    "# left_clipped_same_end = left_clipped[ref_insertion_endpoints['right']]\n",
    "# right_clipped_same_end = right_clipped[ref_insertion_endpoints['left']]\n",
    "\n",
    "# contig_insertion_endpoints = find_contig_insertion_endpoints(\n",
    "#         contig, read_unpacking_dir, left_clipped_same_end,\n",
    "#         right_clipped_same_end)\n",
    "\n",
    "# # Propogate error upwards\n",
    "# if 'error_string' in contig_insertion_endpoints:\n",
    "#     return contig_insertion_endpoints\n",
    "\n",
    "# return {\n",
    "#         'reference': ref_insertion_endpoints,\n",
    "#         'contig': contig_insertion_endpoints\n",
    "# }"
   ]
  },
  {
   "cell_type": "code",
   "execution_count": 13,
   "metadata": {
    "collapsed": false
   },
   "outputs": [],
   "source": [
    "%matplotlib inline\n",
    "import matplotlib.pyplot as plt\n",
    "import numpy as np"
   ]
  },
  {
   "cell_type": "code",
   "execution_count": 17,
   "metadata": {
    "collapsed": false
   },
   "outputs": [
    {
     "data": {
      "text/plain": [
       "(array([  4.,   4.,   2.,   2.,   2.,   8.,   4.,   2.,   6.,   2.,   2.,\n",
       "          2.,   6.,   0.,   4.,   0.,   4.,   6.,   2.,   4.,   6.,   2.,\n",
       "          2.,  78.,   2.,   0.,   0.,   0.,   8.,   6.,   2.,   4.,   4.,\n",
       "         34.,   4.,   4.,   2.,   2.,   2.,   4.,   0.,   0.,   2.,   4.,\n",
       "          4.,   0.,   4.,   0.,   4.,   2.,   4.,   0.,   0.,   0.,   2.,\n",
       "         16.,   0.,   0.,   2.,   2.,  10.,   8.,   6.,   4.,   0.,   2.,\n",
       "          6.,   0.,  10.,   2.,   2.,   6.,   4.,   2.,   2.,   0.,   8.,\n",
       "          0.,   4.,   2.,   0.,   2.,   0.,   0.,   0.,   2.,   0.,   4.,\n",
       "          0.,   8.,   0.,   6.,   4.,   0.,   4.,   4.,   0.,   6.,   4.,\n",
       "          0.,   0.,   2.,   2.,   2.,   0.,   0.,   0.,   8.,   2.,   6.,\n",
       "          2.,   4.,   4.,   4.,   7.,   1.,   4.,   2.,   2.,   8.,   0.,\n",
       "          2.,   0.,   2.,   8.,   2.,   4.,   0.,   4.,   2.,   6.,   2.,\n",
       "          2.,   6.,   0.,   0.,   2.,   0.,   4.,   2.,   6.,   2.,   0.,\n",
       "          6.,   0.,   0.,   2.,   0.,   2.,   6.,   4.,   2.,   4.,   6.,\n",
       "          0.,   2.,   6.,   0.,  10.,   2.,   8.,   0.,   0.,   8.,   0.,\n",
       "          2.,   0.,   2.,   0.,   6.,   2.,   0.,   0.,   2.,   4.,   0.,\n",
       "          4.,   2.,   8.,   6.,   2.,   0.,   1.,   3.,   4.,   0.,   0.,\n",
       "          2.,   2.,   2.,   2.,   4.,   0.,   4.,   4.,   4.,   6.,   4.,\n",
       "          0.,   4.]),\n",
       " array([   32602.  ,    55627.88,    78653.76,   101679.64,   124705.52,\n",
       "          147731.4 ,   170757.28,   193783.16,   216809.04,   239834.92,\n",
       "          262860.8 ,   285886.68,   308912.56,   331938.44,   354964.32,\n",
       "          377990.2 ,   401016.08,   424041.96,   447067.84,   470093.72,\n",
       "          493119.6 ,   516145.48,   539171.36,   562197.24,   585223.12,\n",
       "          608249.  ,   631274.88,   654300.76,   677326.64,   700352.52,\n",
       "          723378.4 ,   746404.28,   769430.16,   792456.04,   815481.92,\n",
       "          838507.8 ,   861533.68,   884559.56,   907585.44,   930611.32,\n",
       "          953637.2 ,   976663.08,   999688.96,  1022714.84,  1045740.72,\n",
       "         1068766.6 ,  1091792.48,  1114818.36,  1137844.24,  1160870.12,\n",
       "         1183896.  ,  1206921.88,  1229947.76,  1252973.64,  1275999.52,\n",
       "         1299025.4 ,  1322051.28,  1345077.16,  1368103.04,  1391128.92,\n",
       "         1414154.8 ,  1437180.68,  1460206.56,  1483232.44,  1506258.32,\n",
       "         1529284.2 ,  1552310.08,  1575335.96,  1598361.84,  1621387.72,\n",
       "         1644413.6 ,  1667439.48,  1690465.36,  1713491.24,  1736517.12,\n",
       "         1759543.  ,  1782568.88,  1805594.76,  1828620.64,  1851646.52,\n",
       "         1874672.4 ,  1897698.28,  1920724.16,  1943750.04,  1966775.92,\n",
       "         1989801.8 ,  2012827.68,  2035853.56,  2058879.44,  2081905.32,\n",
       "         2104931.2 ,  2127957.08,  2150982.96,  2174008.84,  2197034.72,\n",
       "         2220060.6 ,  2243086.48,  2266112.36,  2289138.24,  2312164.12,\n",
       "         2335190.  ,  2358215.88,  2381241.76,  2404267.64,  2427293.52,\n",
       "         2450319.4 ,  2473345.28,  2496371.16,  2519397.04,  2542422.92,\n",
       "         2565448.8 ,  2588474.68,  2611500.56,  2634526.44,  2657552.32,\n",
       "         2680578.2 ,  2703604.08,  2726629.96,  2749655.84,  2772681.72,\n",
       "         2795707.6 ,  2818733.48,  2841759.36,  2864785.24,  2887811.12,\n",
       "         2910837.  ,  2933862.88,  2956888.76,  2979914.64,  3002940.52,\n",
       "         3025966.4 ,  3048992.28,  3072018.16,  3095044.04,  3118069.92,\n",
       "         3141095.8 ,  3164121.68,  3187147.56,  3210173.44,  3233199.32,\n",
       "         3256225.2 ,  3279251.08,  3302276.96,  3325302.84,  3348328.72,\n",
       "         3371354.6 ,  3394380.48,  3417406.36,  3440432.24,  3463458.12,\n",
       "         3486484.  ,  3509509.88,  3532535.76,  3555561.64,  3578587.52,\n",
       "         3601613.4 ,  3624639.28,  3647665.16,  3670691.04,  3693716.92,\n",
       "         3716742.8 ,  3739768.68,  3762794.56,  3785820.44,  3808846.32,\n",
       "         3831872.2 ,  3854898.08,  3877923.96,  3900949.84,  3923975.72,\n",
       "         3947001.6 ,  3970027.48,  3993053.36,  4016079.24,  4039105.12,\n",
       "         4062131.  ,  4085156.88,  4108182.76,  4131208.64,  4154234.52,\n",
       "         4177260.4 ,  4200286.28,  4223312.16,  4246338.04,  4269363.92,\n",
       "         4292389.8 ,  4315415.68,  4338441.56,  4361467.44,  4384493.32,\n",
       "         4407519.2 ,  4430545.08,  4453570.96,  4476596.84,  4499622.72,\n",
       "         4522648.6 ,  4545674.48,  4568700.36,  4591726.24,  4614752.12,\n",
       "         4637778.  ]),\n",
       " <a list of 200 Patch objects>)"
      ]
     },
     "execution_count": 17,
     "metadata": {},
     "output_type": "execute_result"
    },
    {
     "data": {
      "image/png": "[encoded data removed]",
      "text/plain": [
       "<matplotlib.figure.Figure at 0x7fa3b592c450>"
      ]
     },
     "metadata": {},
     "output_type": "display_data"
    }
   ],
   "source": [
    "plt.hist(endpoints,200)"
   ]
  },
  {
   "cell_type": "code",
   "execution_count": 4,
   "metadata": {
    "collapsed": true
   },
   "outputs": [],
   "source": [
    "contig = Contig.objects.get(label='mg1655_lib1_rec07_NODE_25_length_3591_cov_144.856583')\n",
    "read_unpacking_dir = os.path.join(contig.get_model_data_dir(), 'unmapped_pairs_testing')\n",
    "unmapped_contig_reads = extract_contig_reads(contig, read_unpacking_dir, read_category='unmapped')"
   ]
  },
  {
   "cell_type": "code",
   "execution_count": 5,
   "metadata": {
    "collapsed": false
   },
   "outputs": [
    {
     "name": "stdout",
     "output_type": "stream",
     "text": [
      "18320 unmapped reads in contig\n",
      "178 mapped mates found\n"
     ]
    }
   ],
   "source": [
    "print len(unmapped_contig_reads), 'unmapped reads in contig'\n",
    "\n",
    "original_align = contig.experiment_sample_to_alignment.dataset_set.get(type=Dataset.TYPE.BWA_ALIGN).get_absolute_location()\n",
    "original_alignmentfile = pysam.AlignmentFile(original_align)\n",
    "\n",
    "found_mates = []\n",
    "for read in unmapped_contig_reads:\n",
    "    if not read.mate_is_unmapped:\n",
    "        mate = original_alignmentfile.mate(read)\n",
    "        found_mates.append(mate)\n",
    "print len(found_mates), 'mapped mates found'\n"
   ]
  },
  {
   "cell_type": "code",
   "execution_count": 40,
   "metadata": {
    "collapsed": false
   },
   "outputs": [
    {
     "name": "stdout",
     "output_type": "stream",
     "text": [
      "unmapped_read:\n",
      "\tqname: HSQ700642:127:D0F9HACXX:5:1302:1693:7570\n",
      "\tis_unmapped: True\n",
      "\tget_reference_positions: []\n",
      "\treference_start: 6133\n",
      "\treference_end: None\n",
      "unmapped_read_mate.qname: HSQ700642:127:D0F9HACXX:5:1302:1693:7570\n"
     ]
    }
   ],
   "source": [
    "unmapped_read = unmapped_contig_reads[0]\n",
    "print 'unmapped_read:'\n",
    "print '\\tqname:', unmapped_read.qname\n",
    "print '\\tis_unmapped:', unmapped_read.is_unmapped\n",
    "print '\\tget_reference_positions:', unmapped_read.get_reference_positions()\n",
    "print '\\treference_start:', unmapped_read.reference_start\n",
    "print '\\treference_end:', unmapped_read.reference_end\n",
    "unmapped_read_mate = origininal_alignmentfile.mate(unmapped_read)\n",
    "print 'unmapped_read_mate.qname:', unmapped_read_mate.qname"
   ]
  },
  {
   "cell_type": "code",
   "execution_count": 56,
   "metadata": {
    "collapsed": false
   },
   "outputs": [
    {
     "name": "stdout",
     "output_type": "stream",
     "text": [
      "HSQ700642:127:D0F9HACXX:5:2308:20623:200484\t77\t-1\t-1\t0\tNone\t-1\t-1\t100\tTAGATCAGAAGAGCGGTTCAGCAGGAATGCCGAGACCGATCTCGTATGCCGTCTTCTGCTTGAAAAAAAAAAAACGGAGCAGAGTGCTGCAGCTAGTGAG\tarray('B', [33, 28, 25, 33, 35, 35, 30, 35, 39, 37, 37, 37, 39, 38, 37, 39, 38, 39, 37, 39, 40, 39, 41, 41, 41, 36, 38, 40, 38, 39, 39, 33, 38, 33, 39, 41, 40, 40, 32, 26, 26, 36, 35, 38, 34, 36, 39, 39, 37, 37, 37, 27, 32, 36, 35, 31, 34, 34, 34, 34, 31, 34, 30, 25, 25, 29, 32, 30, 33, 33, 31, 2, 2, 2, 2, 2, 2, 2, 2, 2, 2, 2, 2, 2, 2, 2, 2, 2, 2, 2, 2, 2, 2, 2, 2, 2, 2, 2, 2, 2])\t[('AS', 0), ('XS', 0), ('RG', 'eab3affa')]\n"
     ]
    }
   ],
   "source": [
    "found_mates = []\n",
    "for read in unmapped_contig_reads:\n",
    "    if not read.mate_is_unmapped:\n",
    "        mate = original_alignmentfile.mate(read)\n",
    "        found_mates.append(mate)\n",
    "#     assert mate.is_unmapped == read.mate_is_unmapped"
   ]
  },
  {
   "cell_type": "code",
   "execution_count": 10,
   "metadata": {
    "collapsed": false
   },
   "outputs": [],
   "source": [
    "from genome_finish.assembly import add_bam_track\n",
    "mates_of_unmapped_bam_file = os.path.join(\n",
    "        contig.get_model_data_dir(), 'mates_of_unmapped.bam')\n",
    "\n",
    "mates_of_unmapped_alignment_file = pysam.AlignmentFile(\n",
    "    mates_of_unmapped_bam_file, \"wb\", template=original_alignmentfile)\n",
    "\n",
    "for read in found_mates:\n",
    "    mates_of_unmapped_alignment_file.write(read)\n",
    "\n",
    "mates_of_unmapped_alignment_file.close()\n",
    "\n",
    "label = ('Contig_' + str(contig.metadata['node_number']) + '_length_' +\n",
    "        str(contig.num_bases) + '_mates_of_unmapped')\n",
    "\n",
    "add_bam_track(contig.parent_reference_genome, mates_of_unmapped_bam_file, label)"
   ]
  },
  {
   "cell_type": "code",
   "execution_count": 9,
   "metadata": {
    "collapsed": false
   },
   "outputs": [
    {
     "data": {
      "text/plain": [
       "'/home/wahern/projects/millstone/genome_designer/conf/../temp_data/projects/6e766eb8/contigs/9f0f6e36/mates_of_unmapped.bam'"
      ]
     },
     "execution_count": 9,
     "metadata": {},
     "output_type": "execute_result"
    }
   ],
   "source": [
    "mates_of_unmapped_bam_file"
   ]
  },
  {
   "cell_type": "code",
   "execution_count": 54,
   "metadata": {
    "collapsed": false
   },
   "outputs": [
    {
     "data": {
      "image/png": "[encoded data removed]",
      "text/plain": [
       "<matplotlib.figure.Figure at 0x7fa3b503bd10>"
      ]
     },
     "metadata": {},
     "output_type": "display_data"
    }
   ],
   "source": [
    "y=0\n",
    "for read in found_mates:\n",
    "    plt.hlines(y, read.reference_start, read.reference_end, lw=4)\n",
    "    y+=1"
   ]
  },
  {
   "cell_type": "code",
   "execution_count": 17,
   "metadata": {
    "collapsed": false
   },
   "outputs": [
    {
     "name": "stdout",
     "output_type": "stream",
     "text": [
      "Once deleted, variables cannot be recovered. Proceed (y/[n])? y\n"
     ]
    }
   ],
   "source": [
    "%reset"
   ]
  },
  {
   "cell_type": "code",
   "execution_count": 22,
   "metadata": {
    "collapsed": false
   },
   "outputs": [
    {
     "name": "stdout",
     "output_type": "stream",
     "text": [
      "19179 unmapped reads in contig\n",
      "357 mapped mates found\n"
     ]
    }
   ],
   "source": [
    "import os\n",
    "\n",
    "import pysam\n",
    "\n",
    "from main.models import Contig\n",
    "from main.models import Dataset\n",
    "from genome_finish import insertion_placement_read_trkg\n",
    "from genome_finish.assembly import add_bam_track\n",
    "\n",
    "contig2_label = 'mg1655_lib1_rec07_NODE_22_length_5491_cov_157.923141'\n",
    "contig = Contig.objects.get(label=contig2_label)\n",
    "\n",
    "unmapped_contig_reads = insertion_placement_read_trkg.extract_contig_reads(contig, read_category='unmapped')\n",
    "print len(unmapped_contig_reads), 'unmapped reads in contig'\n",
    "\n",
    "original_align = contig.experiment_sample_to_alignment.dataset_set.get(type=Dataset.TYPE.BWA_ALIGN).get_absolute_location()\n",
    "original_alignmentfile = pysam.AlignmentFile(original_align)\n",
    "found_mates = []\n",
    "for read in unmapped_contig_reads:\n",
    "    if not read.mate_is_unmapped:\n",
    "        mate = original_alignmentfile.mate(read)\n",
    "        found_mates.append(mate)\n",
    "print len(found_mates), 'mapped mates found'\n",
    "\n",
    "mates_of_unmapped_bam_file = os.path.join(\n",
    "        contig.get_model_data_dir(), 'mates_of_unmapped.bam')\n",
    "mates_of_unmapped_alignment_file = pysam.AlignmentFile(\n",
    "    mates_of_unmapped_bam_file, \"wb\", template=original_alignmentfile)\n",
    "for read in found_mates:\n",
    "    mates_of_unmapped_alignment_file.write(read)\n",
    "mates_of_unmapped_alignment_file.close()\n",
    "\n",
    "label = ('Contig_' + str(contig.metadata['node_number']) + '_length_' +\n",
    "        str(contig.num_bases) + '_mates_of_unmapped')\n",
    "add_bam_track(contig.parent_reference_genome, mates_of_unmapped_bam_file, label)\n",
    "\n"
   ]
  },
  {
   "cell_type": "code",
   "execution_count": 21,
   "metadata": {
    "collapsed": false
   },
   "outputs": [
    {
     "data": {
      "text/plain": [
       "<module 'genome_finish.insertion_placement_read_trkg' from 'genome_finish/insertion_placement_read_trkg.py'>"
      ]
     },
     "execution_count": 21,
     "metadata": {},
     "output_type": "execute_result"
    }
   ],
   "source": [
    "reload(insertion_placement_read_trkg)"
   ]
  },
  {
   "cell_type": "code",
   "execution_count": 23,
   "metadata": {
    "collapsed": false
   },
   "outputs": [
    {
     "data": {
      "text/plain": [
       "'/home/wahern/projects/millstone/genome_designer/conf/../temp_data/projects/6e766eb8/contigs/a0c46b76/mates_of_unmapped.bam'"
      ]
     },
     "execution_count": 23,
     "metadata": {},
     "output_type": "execute_result"
    }
   ],
   "source": [
    "mates_of_unmapped_bam_file"
   ]
  },
  {
   "cell_type": "code",
   "execution_count": 26,
   "metadata": {
    "collapsed": false
   },
   "outputs": [
    {
     "ename": "SyntaxError",
     "evalue": "invalid syntax (<ipython-input-26-e3d19c447ee6>, line 1)",
     "output_type": "error",
     "traceback": [
      "\u001b[1;36m  File \u001b[1;32m\"<ipython-input-26-e3d19c447ee6>\"\u001b[1;36m, line \u001b[1;32m1\u001b[0m\n\u001b[1;33m    samtools view /home/wahern/projects/millstone/genome_designer/conf/../temp_data/projects/6e766eb8/contigs/a0c46b76/mates_of_unmapped.bam\u001b[0m\n\u001b[1;37m                ^\u001b[0m\n\u001b[1;31mSyntaxError\u001b[0m\u001b[1;31m:\u001b[0m invalid syntax\n"
     ]
    }
   ],
   "source": [
    " samtools view /home/wahern/projects/millstone/genome_designer/conf/../temp_data/projects/6e766eb8/contigs/a0c46b76/mates_of_unmapped.bam"
   ]
  },
  {
   "cell_type": "code",
   "execution_count": 28,
   "metadata": {
    "collapsed": false
   },
   "outputs": [
    {
     "data": {
      "text/plain": [
       "u'/home/wahern/projects/millstone/genome_designer/conf/../temp_data/projects/6e766eb8/alignment_groups/9c54183d/sample_alignments/ca0c79af/genome_finishing/2/velvet_k21'"
      ]
     },
     "execution_count": 28,
     "metadata": {},
     "output_type": "execute_result"
    }
   ],
   "source": [
    "contig.metadata['assembly_dir']"
   ]
  },
  {
   "cell_type": "code",
   "execution_count": null,
   "metadata": {
    "collapsed": true
   },
   "outputs": [],
   "source": []
  }
 ],
 "metadata": {
  "kernelspec": {
   "display_name": "Python 2",
   "language": "python",
   "name": "python2"
  },
  "language_info": {
   "codemirror_mode": {
    "name": "ipython",
    "version": 2
   },
   "file_extension": ".py",
   "mimetype": "text/x-python",
   "name": "python",
   "nbconvert_exporter": "python",
   "pygments_lexer": "ipython2",
   "version": "2.7.6"
  }
 },
 "nbformat": 4,
 "nbformat_minor": 0
}
